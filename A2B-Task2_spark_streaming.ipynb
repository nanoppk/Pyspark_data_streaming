{
 "cells": [
  {
   "cell_type": "markdown",
   "metadata": {},
   "source": [
    "# Streaming application using Spark Structured Streaming"
   ]
  },
  {
   "cell_type": "markdown",
   "metadata": {},
   "source": [
    "### 1. Write code to create a SparkSession, which uses four cores with a proper application name, use the Melbourne timezone, and make sure a checkpoint location has been set.\n"
   ]
  },
  {
   "cell_type": "code",
   "execution_count": 1,
   "metadata": {
    "scrolled": false
   },
   "outputs": [],
   "source": [
    "import os\n",
    "os.environ['PYSPARK_SUBMIT_ARGS'] = '--packages org.apache.spark:spark-streaming-kafka-0-10_2.12:3.0.0,org.apache.spark:spark-sql-kafka-0-10_2.12:3.0.0 pyspark-shell'\n",
    "\n",
    "from pyspark.sql import SparkSession\n",
    "from pyspark import SparkConf\n",
    "from pyspark.sql.functions import *\n",
    "from pyspark.sql.types import *\n",
    "\n",
    "\n",
    "current_dir = os.getcwd()\n",
    "\n",
    "master = \"local[4]\"\n",
    "app_name = \"MOTH_streaming\"\n",
    "\n",
    "spark_conf = SparkConf().setMaster(master).setAppName(app_name)\\\n",
    "            .set(\"spark.sql.session.timeZone\", \"Australia/Melbourne\")\\\n",
    "            .set(\"spark.sql.streaming.checkpointLocation\", current_dir)\n",
    "\n",
    "spark = SparkSession.builder.config(conf=spark_conf).getOrCreate()"
   ]
  },
  {
   "cell_type": "markdown",
   "metadata": {},
   "source": [
    "### 2. Similar to assignment 2A, write code to define the data schema for the data files, following the data types suggested in the metadata file. Load the static datasets (e.g. customer, product, category) into data frames. \n",
    "\n"
   ]
  },
  {
   "cell_type": "code",
   "execution_count": 2,
   "metadata": {},
   "outputs": [],
   "source": [
    "category_schema = StructType([\n",
    "    StructField(\"#\", StringType(), True),\n",
    "    StructField(\"category_id\", StringType(), True),\n",
    "    StructField(\"cat_level1\", StringType(), True),\n",
    "    StructField(\"cat_level2\", StringType(), True),\n",
    "    StructField(\"cat_level3\", StringType(), True)\n",
    "])\n",
    "\n",
    "\n",
    "customer_schema = StructType([\n",
    "    StructField(\"#\", StringType(), True),  \n",
    "    StructField(\"customer_id\", StringType(), True),\n",
    "    StructField(\"first_name\", StringType(), True),\n",
    "    StructField(\"last_name\", StringType(), True),\n",
    "    StructField(\"user_name\", StringType(), True),\n",
    "    StructField(\"email\", StringType(), True),\n",
    "    StructField(\"gender\", StringType(), True),\n",
    "    StructField(\"birthdate\", DateType(), True),\n",
    "    StructField(\"device_type\", StringType(), True),\n",
    "    StructField(\"device_id\", StringType(), True),\n",
    "    StructField(\"device_version\", StringType(), True),\n",
    "    StructField(\"home_location_lat\", FloatType(), True),\n",
    "    StructField(\"home_location_long\", FloatType(), True),\n",
    "    StructField(\"home_location\", StringType(), True),\n",
    "    StructField(\"home_country\", StringType(), True),\n",
    "    StructField(\"first_join_date\", DateType(), True)\n",
    "])\n",
    "\n",
    "product_schema = StructType([\n",
    "    StructField(\"#\", StringType(), True),\n",
    "    StructField(\"id\", StringType(), True),\n",
    "    StructField(\"gender\", StringType(), True),\n",
    "    StructField(\"baseColour\", StringType(), True),\n",
    "    StructField(\"season\", StringType(), True),\n",
    "    StructField(\"year\", IntegerType(), True),\n",
    "    StructField(\"usage\", StringType(), True),\n",
    "    StructField(\"productDisplayName\", StringType(), True),\n",
    "    StructField(\"category_id\", StringType(), True)\n",
    "])\n",
    "\n",
    "\n",
    "transaction_schema = StructType([\n",
    "    StructField(\"#\", StringType(), True),\n",
    "    StructField(\"created_at\", TimestampType(), True),\n",
    "    StructField(\"customer_id\", StringType(), True),\n",
    "    StructField(\"booking_id\", StringType(), True),\n",
    "    StructField(\"session_id\", StringType(), True),\n",
    "    StructField(\"product_metadata\", StringType(), True),\n",
    "    StructField(\"payment_method\", StringType(), True),\n",
    "    StructField(\"payment_status\", StringType(), True),\n",
    "    StructField(\"promo_amount\", FloatType(), True),\n",
    "    StructField(\"promo_code\", StringType(), True),\n",
    "    StructField(\"shipment_fee\", FloatType(), True),\n",
    "    StructField(\"shipment_date_limit\", TimestampType(), True),\n",
    "    StructField(\"shipment_location_lat\", FloatType(), True),\n",
    "    StructField(\"shipment_location_long\", FloatType(), True),\n",
    "    StructField(\"total_amount\", FloatType(), True)\n",
    "])\n",
    "\n",
    "\n",
    "rt_schema = ArrayType(StructType([\n",
    "    StructField(\"#\", StringType(), True),\n",
    "    StructField(\"session_id\", StringType(), True),\n",
    "    StructField(\"event_name\", StringType(), True),\n",
    "    StructField(\"event_id\", StringType(), True),\n",
    "    StructField(\"traffic_source\", StringType(), True),\n",
    "    StructField(\"event_metadata\", StringType(), True),\n",
    "    StructField(\"customer_id\", StringType(), True),\n",
    "    StructField(\"ts\", IntegerType(), True)\n",
    "])\n",
    ")"
   ]
  },
  {
   "cell_type": "code",
   "execution_count": 3,
   "metadata": {},
   "outputs": [],
   "source": [
    "# loading all files and use predefined schemas\n",
    "df_category = spark.read.csv(\"category.csv\", header= True, schema= category_schema, escape= '\"')\n",
    "df_customer = spark.read.csv(\"customer.csv\", header= True, schema= customer_schema, escape= '\"')\n",
    "df_product = spark.read.csv(\"product.csv\", header= True, schema= product_schema, escape= '\"')\n",
    "df_transactions = spark.read.csv(\"new_transactions.csv\", header= True, schema= transaction_schema, escape= '\"')"
   ]
  },
  {
   "cell_type": "markdown",
   "metadata": {},
   "source": [
    "### 3 Using the Kafka topic from the producer in Task 1, ingest the streaming data into Spark Streaming, assuming all data comes in the String format. Except for the 'ts' column, you shall receive it as an Int type.\n",
    "\n",
    "\n"
   ]
  },
  {
   "cell_type": "code",
   "execution_count": 4,
   "metadata": {},
   "outputs": [],
   "source": [
    "hostip = \"118.139.87.176\"\n",
    "topic = \"MOTH_Realtime_Data\"\n",
    "\n",
    "# read read stream from task1\n",
    "df = spark\\\n",
    "    .readStream\\\n",
    "    .format(\"kafka\")\\\n",
    "    .option(\"kafka.bootstrap.servers\", f\"{hostip}:9092\")\\\n",
    "    .option(\"subscribe\", topic)\\\n",
    "    .load()\n",
    "\n",
    "# turn value to structured format column\n",
    "batch_df = df.select(from_json(col(\"value\").cast(\"string\"), rt_schema).alias('parsed_value'))\n",
    "\n",
    "# get data in structured data\n",
    "batch_df = batch_df.select(explode(col(\"parsed_value\")).alias(\"unnested_value\"))\n",
    "\n",
    "# select only needed data from batch_df\n",
    "df_click_stream = batch_df.select(\n",
    "                            col(\"unnested_value.#\").alias(\"#\"),\n",
    "                            col(\"unnested_value.session_id\").alias(\"session_id\"),\n",
    "                            col(\"unnested_value.event_name\").alias(\"event_name\"),\n",
    "                            col(\"unnested_value.event_id\").alias(\"event_id\"),\n",
    "                            col(\"unnested_value.traffic_source\").alias(\"traffic_source\"),\n",
    "                            col(\"unnested_value.event_metadata\").alias(\"event_metadata\"),\n",
    "                            col(\"unnested_value.customer_id\").alias(\"customer_id\"),\n",
    "                            col(\"unnested_value.ts\").alias(\"event_time\"))"
   ]
  },
  {
   "cell_type": "markdown",
   "metadata": {},
   "source": [
    "### 4 Then, the streaming data format should be transformed into the proper formats following the metadata file schema, similar to assignment 2A.  \n",
    "Perform the following tasks:  \n",
    "a) For the 'ts' column, convert it to the timestamp format, we will use it as event_time.  "
   ]
  },
  {
   "cell_type": "markdown",
   "metadata": {},
   "source": [
    "**Define and register UDF function**"
   ]
  },
  {
   "cell_type": "code",
   "execution_count": 5,
   "metadata": {},
   "outputs": [],
   "source": [
    "# define udf for converting event names to categorical values \n",
    "def cat_event(data):\n",
    "    \"\"\"\n",
    "    This function is use for converting event name to categorical values\n",
    "    \"\"\"\n",
    "    cat_1 = [\"ADD_PROMO\", \"ADD_TO_CART\"]\n",
    "    cat_2 = [\"VIEW_PROMO\", \"VIEW_ITEM\", \"SEARCH\"]\n",
    "    cat_3 = [\"SCROLL\", \"HOMEPAGE\", \"CLICK\"]\n",
    "    \n",
    "    # create conditions for converting\n",
    "    if data in cat_1:\n",
    "        return \"Category 1\"\n",
    "    elif data in cat_2:\n",
    "        return \"Category 2\"\n",
    "    elif data in cat_3:\n",
    "        return \"Category 3\"\n",
    "    \n",
    "\n",
    "import calendar\n",
    "# create udf for converting moths to seasons\n",
    "def convert_month_season(data):\n",
    "    \"\"\"\n",
    "    input: date\n",
    "    output: season for particular month\n",
    "    description: The function is used for converting month to season\n",
    "    \"\"\"\n",
    "    # extract month from date\n",
    "    month = data.month\n",
    "    \n",
    "    # create conditions for each month\n",
    "    if month in (3, 4, 5):\n",
    "        return \"Spring\"\n",
    "    elif month in (6, 7, 8):\n",
    "        return \"Summer\"\n",
    "    elif month in (9, 10, 11):\n",
    "        return \"Autumn\"\n",
    "    elif month in (12, 1, 2):\n",
    "        return \"Winter\"\n",
    "\n",
    "\n",
    "# register udf function to pyspark dataframe\n",
    "cat_event_udf = udf(cat_event, StringType())\n",
    "\n",
    "# register convert_month_season to dataframe\n",
    "convert_month_season_udf = udf(convert_month_season, StringType())"
   ]
  },
  {
   "cell_type": "code",
   "execution_count": 6,
   "metadata": {},
   "outputs": [],
   "source": [
    "# cast event_time as Integer\n",
    "df_click_stream = df_click_stream.withColumn(\"event_time\", col(\"event_time\").cast(IntegerType()))\n",
    "\n",
    "# change it to timestamp\n",
    "df_click_stream = df_click_stream.withColumn(\"event_time\", to_timestamp(\"event_time\"))"
   ]
  },
  {
   "cell_type": "markdown",
   "metadata": {},
   "source": [
    "b) If the data is late for more than 1 minute, discard it.  "
   ]
  },
  {
   "cell_type": "code",
   "execution_count": 7,
   "metadata": {},
   "outputs": [],
   "source": [
    "# drop \"#\"\n",
    "df_click_stream = df_click_stream.drop(\"#\")\n",
    "\n",
    "# only consider data within one minuet\n",
    "df_click_stream = df_click_stream.withWatermark(\"event_time\", \"1 minute\")"
   ]
  },
  {
   "cell_type": "code",
   "execution_count": 8,
   "metadata": {},
   "outputs": [
    {
     "name": "stdout",
     "output_type": "stream",
     "text": [
      "root\n",
      " |-- session_id: string (nullable = true)\n",
      " |-- event_name: string (nullable = true)\n",
      " |-- event_id: string (nullable = true)\n",
      " |-- traffic_source: string (nullable = true)\n",
      " |-- event_metadata: string (nullable = true)\n",
      " |-- customer_id: string (nullable = true)\n",
      " |-- event_time: timestamp (nullable = true)\n",
      "\n"
     ]
    }
   ],
   "source": [
    "df_click_stream.printSchema()"
   ]
  },
  {
   "cell_type": "markdown",
   "metadata": {},
   "source": [
    "### 5  \n",
    "Aggregate the streaming data frame by session id and create features you used in your assignment 2A model. (note: customer ID has already been included in the stream.)   \n",
    "Then, join the static data frames with the streaming data frame as our final data for prediction.  \n",
    "Perform data type/column conversion according to your ML model, and print out the Schema.\n"
   ]
  },
  {
   "cell_type": "code",
   "execution_count": 9,
   "metadata": {},
   "outputs": [],
   "source": [
    "# apply udf function to the data frame\n",
    "df_click_stream = df_click_stream\\\n",
    "            .withColumn(\"event_cat\", cat_event_udf(df_click_stream[\"event_name\"]))\n",
    "df_click_stream = df_click_stream.filter(col(\"event_name\") != \"PURCHASE\")"
   ]
  },
  {
   "cell_type": "code",
   "execution_count": 10,
   "metadata": {},
   "outputs": [],
   "source": [
    "# create columns of num_cat_values\n",
    "feature_df = df_click_stream \\\n",
    "    .groupBy(\n",
    "        window(\"event_time\", \"5 seconds\"),\n",
    "        col(\"session_id\")).agg(\n",
    "            sum(when(col(\"event_cat\") == \"Category 1\", 1).otherwise(0)).alias(\"num_cat_highvalue\"),\n",
    "            sum(when(col(\"event_cat\") == \"Category 2\", 1).otherwise(0)).alias(\"num_cat_midvalue\"),\n",
    "            sum(when(col(\"event_cat\") == \"Category 3\", 1).otherwise(0)).alias(\"num_cat_lowvalue\"),\n",
    "            count(when(col(\"event_name\") == \"ADD_PROMO\", 1).cast(IntegerType())).alias(\"is_promotion\"),\n",
    "            max(\"customer_id\").alias(\"customer_id\"),\n",
    "            max(\"event_time\").alias(\"event_time\")\n",
    ")\n",
    "\n",
    "# add ratios columns\n",
    "feature_df  = feature_df.withColumn(\"high_value_ratio\", expr(\"num_cat_highvalue/(num_cat_highvalue + num_cat_midvalue + num_cat_lowvalue)\"))\n",
    "feature_df  = feature_df.withColumn(\"low_value_ratio\", expr(\"num_cat_lowvalue/(num_cat_highvalue + num_cat_midvalue + num_cat_lowvalue)\"))\n",
    "\n",
    "\n",
    "# fill all product and revenue with 0\n",
    "feature_df = feature_df.fillna(0)\n",
    "\n",
    "# extrac season \n",
    "feature_df = feature_df.withColumn(\"season\", convert_month_season_udf(col(\"event_time\")))\n",
    "\n",
    "\n",
    "# extrac needed info from df_custoemr\n",
    "customer_info = df_customer\\\n",
    "            .select(\"customer_id\", \"gender\", \"birthdate\", \"device_type\", \"home_location\", \"first_join_date\", \"device_version\")\n",
    "\n",
    "# create new column age then drop birthdate\n",
    "customer_info = customer_info.withColumn(\"age\", floor(datediff(current_date(), col(\"birthdate\")) / 365.25)\\\n",
    "                                        .cast(\"integer\")).drop(\"birthdate\")\n",
    "\n",
    "# extract first_join_year from first_join_date\n",
    "customer_info = customer_info.withColumn(\"first_join_year\", year(col(\"first_join_date\")))\\\n",
    "                .drop(\"first_join_date\")\n",
    "\n",
    "# join to get customer detail\n",
    "feature_df = feature_df.join(customer_info, on=\"customer_id\", how= \"inner\")\n",
    "\n",
    "# create is_puchase column\n",
    "feature_df = feature_df.withColumn(\"is_purchase\", lit(0))"
   ]
  },
  {
   "cell_type": "code",
   "execution_count": 11,
   "metadata": {},
   "outputs": [
    {
     "name": "stdout",
     "output_type": "stream",
     "text": [
      "root\n",
      " |-- customer_id: string (nullable = true)\n",
      " |-- window: struct (nullable = false)\n",
      " |    |-- start: timestamp (nullable = true)\n",
      " |    |-- end: timestamp (nullable = true)\n",
      " |-- session_id: string (nullable = true)\n",
      " |-- num_cat_highvalue: long (nullable = true)\n",
      " |-- num_cat_midvalue: long (nullable = true)\n",
      " |-- num_cat_lowvalue: long (nullable = true)\n",
      " |-- is_promotion: long (nullable = false)\n",
      " |-- event_time: timestamp (nullable = true)\n",
      " |-- high_value_ratio: double (nullable = false)\n",
      " |-- low_value_ratio: double (nullable = false)\n",
      " |-- season: string (nullable = true)\n",
      " |-- gender: string (nullable = true)\n",
      " |-- device_type: string (nullable = true)\n",
      " |-- home_location: string (nullable = true)\n",
      " |-- device_version: string (nullable = true)\n",
      " |-- age: integer (nullable = true)\n",
      " |-- first_join_year: integer (nullable = true)\n",
      " |-- is_purchase: integer (nullable = false)\n",
      "\n"
     ]
    }
   ],
   "source": [
    "feature_df.printSchema()"
   ]
  },
  {
   "cell_type": "code",
   "execution_count": 12,
   "metadata": {},
   "outputs": [],
   "source": [
    "# extrac quantity and product from event metadata for latter questions\n",
    "event_metadata_schema = StructType([\n",
    "    StructField(\"product_id\", StringType(), True),\n",
    "    StructField(\"quantity\", IntegerType(), True),\n",
    "    StructField(\"item_price\", IntegerType(), True)\n",
    "])\n",
    "\n",
    "metadata_info = df_click_stream.filter(col(\"event_name\") == \"ADD_TO_CART\")\n",
    "metadata_info = metadata_info.withColumn(\"parsed_value\", from_json(col(\"event_metadata\").cast(\"string\"), event_metadata_schema))\n",
    "metadata_info = metadata_info.withColumn(\"quantity\", col(\"parsed_value.quantity\"))\n",
    "metadata_info = metadata_info.withColumn(\"product_id\", col(\"parsed_value.product_id\"))\n",
    "metadata_info = metadata_info.withColumn(\"item_price\", col(\"parsed_value.item_price\"))\n",
    "\n",
    "metadata_info = metadata_info.drop(\"parsed_value\")"
   ]
  },
  {
   "cell_type": "code",
   "execution_count": 13,
   "metadata": {},
   "outputs": [
    {
     "name": "stdout",
     "output_type": "stream",
     "text": [
      "root\n",
      " |-- session_id: string (nullable = true)\n",
      " |-- event_name: string (nullable = true)\n",
      " |-- event_id: string (nullable = true)\n",
      " |-- traffic_source: string (nullable = true)\n",
      " |-- event_metadata: string (nullable = true)\n",
      " |-- customer_id: string (nullable = true)\n",
      " |-- event_time: timestamp (nullable = true)\n",
      " |-- event_cat: string (nullable = true)\n",
      " |-- quantity: integer (nullable = true)\n",
      " |-- product_id: string (nullable = true)\n",
      " |-- item_price: integer (nullable = true)\n",
      "\n"
     ]
    }
   ],
   "source": [
    "metadata_info.printSchema()"
   ]
  },
  {
   "cell_type": "markdown",
   "metadata": {},
   "source": [
    "### 6 Load your ML model, and use the model to predict if each session will purchase according to the requirements below:"
   ]
  },
  {
   "cell_type": "markdown",
   "metadata": {},
   "source": [
    "**load library and model from Task2A**"
   ]
  },
  {
   "cell_type": "code",
   "execution_count": 14,
   "metadata": {},
   "outputs": [],
   "source": [
    "from pyspark.ml import PipelineModel"
   ]
  },
  {
   "cell_type": "code",
   "execution_count": 15,
   "metadata": {},
   "outputs": [],
   "source": [
    "gbt_model = PipelineModel.load(\"gbt_pipeline_model\")\n",
    "\n",
    "# feed streamed data to model\n",
    "pred_df = gbt_model.transform(feature_df)\n",
    "\n",
    "# select only needed columns\n",
    "pred_df= pred_df.select(\"window\", \"session_id\", \"prediction\", \"customer_id\")"
   ]
  },
  {
   "cell_type": "markdown",
   "metadata": {},
   "source": [
    "**a) Every 10 seconds, show the total number of potential sales transactions (prediction = 1) in the last 1 minute.**"
   ]
  },
  {
   "cell_type": "code",
   "execution_count": 16,
   "metadata": {},
   "outputs": [],
   "source": [
    "# select all data from pred_df for _6a\n",
    "_6a = pred_df.select(\"*\")\n",
    "_6a = _6a.filter(col(\"prediction\") == 1)"
   ]
  },
  {
   "cell_type": "code",
   "execution_count": 17,
   "metadata": {},
   "outputs": [],
   "source": [
    "_6a = _6a\\\n",
    "    .groupBy(window(\"window\", \"1 minute\", \"10 seconds\"))\\\n",
    "    .agg(sum(col(\"prediction\")).alias(\"potential_sales\"))"
   ]
  },
  {
   "cell_type": "code",
   "execution_count": 18,
   "metadata": {},
   "outputs": [],
   "source": [
    "query = _6a\\\n",
    "        .writeStream\\\n",
    "        .outputMode(\"append\")\\\n",
    "        .format(\"console\")\\\n",
    "        .option(\"truncate\", False)\\\n",
    "        .trigger(processingTime=\"10 seconds\")\\\n",
    "        .start()"
   ]
  },
  {
   "cell_type": "code",
   "execution_count": 19,
   "metadata": {},
   "outputs": [],
   "source": [
    "query.stop()"
   ]
  },
  {
   "cell_type": "markdown",
   "metadata": {},
   "source": [
    "![\\_6a](_6a.png)"
   ]
  },
  {
   "cell_type": "markdown",
   "metadata": {},
   "source": [
    "**b) Every 30 seconds, show the total potential revenue in the last 30 seconds. “Potiential revenue” here is definded as: When prediction=1, extract customer shopping cart detail from metadata (sum of all items of ADD_TO_CART events).**"
   ]
  },
  {
   "cell_type": "code",
   "execution_count": 20,
   "metadata": {},
   "outputs": [],
   "source": [
    "# selelet everything from perd_df\n",
    "_6b = pred_df.select(\"*\")\n",
    "\n",
    "# filter only prediction== 1\n",
    "_6b = _6b.filter(col(\"prediction\") == 1)\n",
    "\n",
    "# _6b = _6b.withWatermark(\"window\", \"1 minute\")\n",
    "metadata_info = metadata_info.drop(\"customer_id\").withWatermark(\"event_time\", \"1 minute\")"
   ]
  },
  {
   "cell_type": "code",
   "execution_count": 21,
   "metadata": {},
   "outputs": [],
   "source": [
    "# join _6b and metadata\n",
    "_6b = _6b\\\n",
    "    .join(metadata_info, on= \"session_id\", how= \"inner\")\n",
    "\n",
    "# calculate revenue\n",
    "_6b = _6b.withColumn(\"revenue\", expr(\"quantity * item_price\"))\n",
    "\n",
    "# query 30 seconds, potential revenue\n",
    "_6b = _6b\\\n",
    "    .groupBy(window(\"window\", \"30 seconds\"))\\\n",
    "    .agg(sum(col(\"revenue\")).alias(\"potential_revenue\"))"
   ]
  },
  {
   "cell_type": "code",
   "execution_count": 22,
   "metadata": {},
   "outputs": [],
   "source": [
    "query = _6b\\\n",
    "        .writeStream\\\n",
    "        .outputMode(\"append\")\\\n",
    "        .format(\"console\")\\\n",
    "        .option(\"truncate\", False)\\\n",
    "        .trigger(processingTime=\"30 seconds\")\\\n",
    "        .start()"
   ]
  },
  {
   "cell_type": "code",
   "execution_count": 23,
   "metadata": {},
   "outputs": [],
   "source": [
    "query.stop()"
   ]
  },
  {
   "cell_type": "markdown",
   "metadata": {},
   "source": [
    "![\\_6b](_6b.png)"
   ]
  },
  {
   "cell_type": "markdown",
   "metadata": {},
   "source": [
    "**c) Every 1 minute, show the top 10 best-selling products by total quantity. (note: No historical data is required, only the top 10 in each 1 minute window.)**\n"
   ]
  },
  {
   "cell_type": "code",
   "execution_count": 24,
   "metadata": {},
   "outputs": [],
   "source": [
    "# prepare data\n",
    "_6c = pred_df.filter(col(\"prediction\") == 1)\\\n",
    "    .join(metadata_info.select(\"session_id\", \"quantity\", \"product_id\", \"item_price\"), on=\"session_id\", how= \"inner\")\\\n",
    "    .join(df_product.select(\"id\", \"productDisplayName\"), on= col(\"product_id\") == col(\"id\") , how= \"left\")\\\n",
    "    .select(\"window\", \"productDisplayName\", \"quantity\")"
   ]
  },
  {
   "cell_type": "code",
   "execution_count": 25,
   "metadata": {},
   "outputs": [],
   "source": [
    "# group by window and productname and sum quantity\n",
    "_6c = _6c\\\n",
    "    .groupBy(window(\"window\", \"1 minute\"), \"productDisplayName\")\\\n",
    "    .agg(sum(col(\"quantity\")).alias(\"total_quantity_1min\"))"
   ]
  },
  {
   "cell_type": "code",
   "execution_count": 26,
   "metadata": {},
   "outputs": [],
   "source": [
    "# query_1 \n",
    "query_top_10 = _6c\\\n",
    "        .writeStream\\\n",
    "        .outputMode(\"append\")\\\n",
    "        .format(\"memory\")\\\n",
    "        .option(\"truncate\", False)\\\n",
    "        .queryName(\"top_10\")\\\n",
    "        .trigger(processingTime=\"60 seconds\")\\\n",
    "        .start()"
   ]
  },
  {
   "cell_type": "code",
   "execution_count": 52,
   "metadata": {
    "scrolled": true
   },
   "outputs": [
    {
     "name": "stdout",
     "output_type": "stream",
     "text": [
      "+------------------------------------------+-----------------------------------------------+-------------------+\n",
      "|window                                    |productDisplayName                             |total_quantity_1min|\n",
      "+------------------------------------------+-----------------------------------------------+-------------------+\n",
      "|{2023-10-17 21:51:00, 2023-10-17 21:52:00}|U.S. Polo Assn. Men Navy Blue Flip Flops       |13                 |\n",
      "|{2023-10-17 21:51:00, 2023-10-17 21:52:00}|Nike Men Free Run+ 2 Shield Grey Sports Shoes  |10                 |\n",
      "|{2023-10-17 21:51:00, 2023-10-17 21:52:00}|ADIDAS Men's Chat Black T-shirt                |6                  |\n",
      "|{2023-10-17 21:51:00, 2023-10-17 21:52:00}|Just Natural Unisex Brown Rain Jacket          |6                  |\n",
      "|{2023-10-17 21:51:00, 2023-10-17 21:52:00}|Puma Men Jiff II Sandals                       |5                  |\n",
      "|{2023-10-17 21:51:00, 2023-10-17 21:52:00}|American Tourister Unisex Casual Olive Backpack|4                  |\n",
      "|{2023-10-17 21:51:00, 2023-10-17 21:52:00}|Mother Earth Women White Kurta                 |4                  |\n",
      "|{2023-10-17 21:51:00, 2023-10-17 21:52:00}|Buckaroo Men Fiesta Olive Casual Shoes         |4                  |\n",
      "|{2023-10-17 21:51:00, 2023-10-17 21:52:00}|Murcia Women Black Handbag                     |3                  |\n",
      "|{2023-10-17 21:51:00, 2023-10-17 21:52:00}|ADIDAS Men's Duramo Leather Shoe               |3                  |\n",
      "+------------------------------------------+-----------------------------------------------+-------------------+\n",
      "\n"
     ]
    }
   ],
   "source": [
    "# use sql query to show result\n",
    "spark.sql(\"\"\"\n",
    "select * \n",
    "from top_10\n",
    "order by window, total_quantity_1min desc\n",
    "limit 10\"\"\").show(truncate= False)"
   ]
  },
  {
   "cell_type": "code",
   "execution_count": 51,
   "metadata": {},
   "outputs": [],
   "source": [
    "query_top_10.stop()"
   ]
  },
  {
   "cell_type": "markdown",
   "metadata": {},
   "source": [
    "### 7  Write a Parquet file for the following:\n"
   ]
  },
  {
   "cell_type": "markdown",
   "metadata": {},
   "source": [
    "**a) Persist the prediction result along with cart metadata in parquet format; after that, read the parquet file and show the results to verify it is saved properly.**  "
   ]
  },
  {
   "cell_type": "code",
   "execution_count": 29,
   "metadata": {},
   "outputs": [],
   "source": [
    "# 7a\n",
    "# join pred with metadata\n",
    "_7a = pred_df\\\n",
    "    .join(metadata_info, on= \"session_id\", how= \"inner\")\n",
    "\n",
    "# select needed columns\n",
    "_7a = _7a.select(\"window\", \"session_id\", \"prediction\", \"quantity\", \"item_price\", \"product_id\", \"customer_id\")"
   ]
  },
  {
   "cell_type": "code",
   "execution_count": 30,
   "metadata": {},
   "outputs": [],
   "source": [
    "# Write into parquet files\n",
    "query_file_sink = _7a.writeStream.format(\"parquet\")\\\n",
    "        .outputMode(\"append\")\\\n",
    "        .option(\"path\", \"parquet/_7a\")\\\n",
    "        .option(\"checkpointLocation\", \"parquet/_7a/checkpoint\")\\\n",
    "        .start()"
   ]
  },
  {
   "cell_type": "code",
   "execution_count": 31,
   "metadata": {},
   "outputs": [],
   "source": [
    "# define sche\n",
    "_7a_schema = StructType([\n",
    "    StructField(\"window\", StructType([\n",
    "        StructField(\"start\", TimestampType(), nullable=True),\n",
    "        StructField(\"end\", TimestampType(), nullable=True)\n",
    "    ]), nullable=False),\n",
    "    StructField(\"session_id\", StringType(), True),\n",
    "    StructField(\"prediction\", DoubleType(), True),\n",
    "    StructField(\"item_price\", IntegerType(), True),\n",
    "    StructField(\"quantity\", IntegerType(), True),\n",
    "    StructField(\"product_id\", StringType(), True),\n",
    "    StructField(\"customer_id\", StringType(), True),\n",
    "])"
   ]
  },
  {
   "cell_type": "code",
   "execution_count": 32,
   "metadata": {
    "scrolled": false
   },
   "outputs": [
    {
     "name": "stdout",
     "output_type": "stream",
     "text": [
      "root\n",
      " |-- window: struct (nullable = false)\n",
      " |    |-- start: timestamp (nullable = true)\n",
      " |    |-- end: timestamp (nullable = true)\n",
      " |-- session_id: string (nullable = true)\n",
      " |-- prediction: double (nullable = true)\n",
      " |-- item_price: integer (nullable = true)\n",
      " |-- quantity: integer (nullable = true)\n",
      " |-- product_id: string (nullable = true)\n",
      " |-- customer_id: string (nullable = true)\n",
      "\n",
      "+------+----------+----------+----------+--------+----------+-----------+\n",
      "|window|session_id|prediction|item_price|quantity|product_id|customer_id|\n",
      "+------+----------+----------+----------+--------+----------+-----------+\n",
      "+------+----------+----------+----------+--------+----------+-----------+\n",
      "\n"
     ]
    }
   ],
   "source": [
    "query_file_sink_df = spark.read.schema(_7a_schema).parquet(\"parquet/_7a\")\n",
    "query_file_sink_df.printSchema()\n",
    "query_file_sink_df.show()"
   ]
  },
  {
   "cell_type": "code",
   "execution_count": 33,
   "metadata": {},
   "outputs": [],
   "source": [
    "query_file_sink.stop()"
   ]
  },
  {
   "cell_type": "markdown",
   "metadata": {},
   "source": [
    "**b) Persist the 30-second sales prediction in another parquet file.**"
   ]
  },
  {
   "cell_type": "code",
   "execution_count": 34,
   "metadata": {},
   "outputs": [],
   "source": [
    "# 7b\n",
    "_7b = pred_df.select(\"*\")\\\n",
    "    .filter(col(\"prediction\") == 1)\\\n",
    "    .join(metadata_info, on= \"session_id\", how= \"inner\")\\\n",
    "    .withColumn(\"revenue\", expr(\"quantity * item_price\"))\\\n",
    "    .groupBy(window(\"window\", \"30 seconds\"))\\\n",
    "    .agg(sum(col(\"revenue\")).alias(\"potential_revenue\"))"
   ]
  },
  {
   "cell_type": "code",
   "execution_count": 35,
   "metadata": {},
   "outputs": [],
   "source": [
    "_7b_schema = StructType([\n",
    "    StructField(\"window\", StructType([\n",
    "        StructField(\"start\", TimestampType(), nullable=True),\n",
    "        StructField(\"end\", TimestampType(), nullable=True)\n",
    "    ]), nullable=False),\n",
    "    StructField(\"potential_revenue\", LongType(), nullable=True)\n",
    "])"
   ]
  },
  {
   "cell_type": "code",
   "execution_count": 36,
   "metadata": {},
   "outputs": [],
   "source": [
    "query_file_sink_7b =  _7b.writeStream.format(\"parquet\")\\\n",
    "        .outputMode(\"append\")\\\n",
    "        .option(\"path\", \"parquet/7b\")\\\n",
    "        .option(\"checkpointLocation\", \"parquet/7b/checkpoint\")\\\n",
    "        .start()"
   ]
  },
  {
   "cell_type": "code",
   "execution_count": 37,
   "metadata": {},
   "outputs": [
    {
     "name": "stdout",
     "output_type": "stream",
     "text": [
      "root\n",
      " |-- window: struct (nullable = false)\n",
      " |    |-- start: timestamp (nullable = true)\n",
      " |    |-- end: timestamp (nullable = true)\n",
      " |-- potential_revenue: long (nullable = true)\n",
      "\n",
      "+------+-----------------+\n",
      "|window|potential_revenue|\n",
      "+------+-----------------+\n",
      "+------+-----------------+\n",
      "\n"
     ]
    }
   ],
   "source": [
    "query_file_sink_df = spark.read.schema(_7b_schema).parquet(\"parquet/7b\")\n",
    "query_file_sink_df.printSchema()\n",
    "query_file_sink_df.show()"
   ]
  },
  {
   "cell_type": "markdown",
   "metadata": {},
   "source": [
    "![\\_7b](_7b.png)"
   ]
  },
  {
   "cell_type": "code",
   "execution_count": 38,
   "metadata": {},
   "outputs": [],
   "source": [
    "query_file_sink_7b.stop()"
   ]
  },
  {
   "cell_type": "markdown",
   "metadata": {},
   "source": [
    "### 8  \n",
    "Read the parquet files as a data stream, for 7a) join customer information and send to a Kafka topic with an appropriate name to the data visualisation. For 7b) Send the message directly to another Kafka topic."
   ]
  },
  {
   "cell_type": "code",
   "execution_count": 39,
   "metadata": {},
   "outputs": [],
   "source": [
    "# Stream 1\n",
    "# read data from parquet file\n",
    "stream_1 = spark\\\n",
    "        .readStream\\\n",
    "        .format(\"parquet\")\\\n",
    "        .schema(_7a.schema)\\\n",
    "        .load(\"parquet/_7a\")"
   ]
  },
  {
   "cell_type": "code",
   "execution_count": 40,
   "metadata": {},
   "outputs": [],
   "source": [
    "# join read data with df_customer\n",
    "stream_1 = stream_1.join(df_customer, on= \"customer_id\", how= \"left\")\n",
    "\n",
    "# select needed cols\n",
    "stream_1 = stream_1.select(\"window\", \"prediction\", \"item_price\", \"quantity\", \"home_location\")\n",
    "\n",
    "# turn stream_1 to dictionary\n",
    "key = \"window\"\n",
    "value = [col for col in stream_1.columns if col != key]\n",
    "\n",
    "# turn df to key value columns\n",
    "stream_1_key_value = stream_1.select(col(\"window\").alias('key'), to_json(struct(*[col(c) for c in value])).alias('value'))"
   ]
  },
  {
   "cell_type": "code",
   "execution_count": 41,
   "metadata": {},
   "outputs": [],
   "source": [
    "# streaming data to task3\n",
    "stream_1_to_send = stream_1_key_value\\\n",
    "                .selectExpr(\"CAST(key AS STRING)\", \"CAST(value AS STRING)\")\\\n",
    "                .writeStream\\\n",
    "                .format(\"kafka\")\\\n",
    "                .option(\"kafka.bootstrap.servers\", \"localhost:9092\")\\\n",
    "                .option(\"checkpointLocation\", \"parquet/8a/checkpoint\")\\\n",
    "                .option(\"topic\", \"pred_cart\")\\\n",
    "                .start()"
   ]
  },
  {
   "cell_type": "code",
   "execution_count": 42,
   "metadata": {},
   "outputs": [],
   "source": [
    "stream_1_to_send.stop()"
   ]
  },
  {
   "cell_type": "markdown",
   "metadata": {},
   "source": [
    "----------------------"
   ]
  },
  {
   "cell_type": "code",
   "execution_count": 43,
   "metadata": {},
   "outputs": [],
   "source": [
    "# Stream 2\n",
    "# read data from parquet file\n",
    "stream_2 = spark\\\n",
    "        .readStream\\\n",
    "        .format(\"parquet\")\\\n",
    "        .schema(_7b.schema)\\\n",
    "        .load(\"parquet/7b\")\n",
    "\n",
    "# get value colums headers\n",
    "value_list = [col for col in stream_2.columns if col != key]\n",
    "\n",
    "# turn df to key value columns\n",
    "stream_2_key_value = stream_2.select(col(\"window\").alias('key'), to_json(struct(*[col(c) for c in value_list])).alias('value'))"
   ]
  },
  {
   "cell_type": "code",
   "execution_count": 44,
   "metadata": {},
   "outputs": [],
   "source": [
    "# streaming data to task3\n",
    "stream_2_to_send = stream_1_key_value\\\n",
    "                .selectExpr(\"CAST(key AS STRING)\", \"CAST(value AS STRING)\")\\\n",
    "                .writeStream\\\n",
    "                .format(\"kafka\")\\\n",
    "                .option(\"kafka.bootstrap.servers\", \"localhost:9092\")\\\n",
    "                .option(\"checkpointLocation\", \"parquet/8b/checkpoint\")\\\n",
    "                .option(\"topic\", \"potential_revenue\")\\\n",
    "                .start()"
   ]
  },
  {
   "cell_type": "code",
   "execution_count": 45,
   "metadata": {},
   "outputs": [],
   "source": [
    "stream_2_to_send.stop()"
   ]
  },
  {
   "cell_type": "markdown",
   "metadata": {},
   "source": [
    "--------------------"
   ]
  },
  {
   "cell_type": "markdown",
   "metadata": {},
   "source": [
    "The above streams take very long time to process and stream, so I decided to use the below approcach to send data to task3."
   ]
  },
  {
   "cell_type": "code",
   "execution_count": 46,
   "metadata": {},
   "outputs": [],
   "source": [
    "# import libaries\n",
    "from time import sleep, time\n",
    "from json import dumps\n",
    "from kafka3 import KafkaProducer\n",
    "import random\n",
    "import datetime as dt\n",
    "import pandas as pd"
   ]
  },
  {
   "cell_type": "code",
   "execution_count": 47,
   "metadata": {},
   "outputs": [],
   "source": [
    "def publish_message(producer_instance, topic_name, data):\n",
    "    try:\n",
    "        producer_instance.send(topic_name, data)\n",
    "        print('Message published successfully. Data: ' + str(data))\n",
    "    except Exception as ex:\n",
    "        print('Exception in publishing message.')\n",
    "        print(str(ex))\n",
    "        \n",
    "        \n",
    "def connect_kafka_producer():\n",
    "    _producer = None\n",
    "    try:\n",
    "        _producer = KafkaProducer(bootstrap_servers=[f'{hostip}:9092'],\n",
    "                                  value_serializer=lambda x: dumps(x).encode('ascii'),\n",
    "                                  api_version=(0, 10))\n",
    "    except Exception as ex:\n",
    "        print('Exception while connecting Kafka.')\n",
    "        print(str(ex))\n",
    "    finally:\n",
    "        return _producer"
   ]
  },
  {
   "cell_type": "code",
   "execution_count": 48,
   "metadata": {},
   "outputs": [],
   "source": [
    "# subpplemetary\n",
    "potential_rev =  _7b\\\n",
    "        .writeStream\\\n",
    "        .outputMode(\"append\")\\\n",
    "        .format(\"memory\")\\\n",
    "        .option(\"truncate\", False)\\\n",
    "        .queryName(\"potential_revenue\")\\\n",
    "        .start()"
   ]
  },
  {
   "cell_type": "code",
   "execution_count": 49,
   "metadata": {},
   "outputs": [
    {
     "data": {
      "text/plain": [
       "True"
      ]
     },
     "execution_count": 49,
     "metadata": {},
     "output_type": "execute_result"
    }
   ],
   "source": [
    "potential_rev.isActive"
   ]
  },
  {
   "cell_type": "code",
   "execution_count": 53,
   "metadata": {
    "scrolled": true
   },
   "outputs": [
    {
     "name": "stdout",
     "output_type": "stream",
     "text": [
      "This is batch 1\n",
      "+------------------------------------------+-----------------+\n",
      "|window                                    |potential_revenue|\n",
      "+------------------------------------------+-----------------+\n",
      "|{2023-10-17 21:52:30, 2023-10-17 21:53:00}|39994582         |\n",
      "|{2023-10-17 21:52:00, 2023-10-17 21:52:30}|73680798         |\n",
      "|{2023-10-17 21:51:00, 2023-10-17 21:51:30}|6464304          |\n",
      "|{2023-10-17 21:51:30, 2023-10-17 21:52:00}|38581230         |\n",
      "|{2023-10-17 21:53:00, 2023-10-17 21:53:30}|48825848         |\n",
      "|{2023-10-17 21:54:30, 2023-10-17 21:55:00}|53680881         |\n",
      "|{2023-10-17 21:54:00, 2023-10-17 21:54:30}|45558668         |\n",
      "|{2023-10-17 21:56:00, 2023-10-17 21:56:30}|41002244         |\n",
      "|{2023-10-17 21:53:30, 2023-10-17 21:54:00}|65082912         |\n",
      "|{2023-10-17 21:55:30, 2023-10-17 21:56:00}|49933103         |\n",
      "|{2023-10-17 21:55:00, 2023-10-17 21:55:30}|69206557         |\n",
      "|{2023-10-17 21:56:30, 2023-10-17 21:57:00}|48192856         |\n",
      "|{2023-10-17 21:57:30, 2023-10-17 21:58:00}|50075819         |\n",
      "|{2023-10-17 21:58:30, 2023-10-17 21:59:00}|74760138         |\n",
      "|{2023-10-17 21:58:00, 2023-10-17 21:58:30}|42996136         |\n",
      "|{2023-10-17 21:57:00, 2023-10-17 21:57:30}|36720386         |\n",
      "+------------------------------------------+-----------------+\n",
      "\n",
      "Message published successfully. Data: ['{\"window\":{\"start\":\"2023-10-17T21:52:30.000+11:00\",\"end\":\"2023-10-17T21:53:00.000+11:00\"},\"potential_revenue\":39994582}', '{\"window\":{\"start\":\"2023-10-17T21:52:00.000+11:00\",\"end\":\"2023-10-17T21:52:30.000+11:00\"},\"potential_revenue\":73680798}', '{\"window\":{\"start\":\"2023-10-17T21:51:00.000+11:00\",\"end\":\"2023-10-17T21:51:30.000+11:00\"},\"potential_revenue\":6464304}', '{\"window\":{\"start\":\"2023-10-17T21:51:30.000+11:00\",\"end\":\"2023-10-17T21:52:00.000+11:00\"},\"potential_revenue\":38581230}', '{\"window\":{\"start\":\"2023-10-17T21:53:00.000+11:00\",\"end\":\"2023-10-17T21:53:30.000+11:00\"},\"potential_revenue\":48825848}', '{\"window\":{\"start\":\"2023-10-17T21:54:30.000+11:00\",\"end\":\"2023-10-17T21:55:00.000+11:00\"},\"potential_revenue\":53680881}', '{\"window\":{\"start\":\"2023-10-17T21:54:00.000+11:00\",\"end\":\"2023-10-17T21:54:30.000+11:00\"},\"potential_revenue\":45558668}', '{\"window\":{\"start\":\"2023-10-17T21:56:00.000+11:00\",\"end\":\"2023-10-17T21:56:30.000+11:00\"},\"potential_revenue\":41002244}', '{\"window\":{\"start\":\"2023-10-17T21:53:30.000+11:00\",\"end\":\"2023-10-17T21:54:00.000+11:00\"},\"potential_revenue\":65082912}', '{\"window\":{\"start\":\"2023-10-17T21:55:30.000+11:00\",\"end\":\"2023-10-17T21:56:00.000+11:00\"},\"potential_revenue\":49933103}', '{\"window\":{\"start\":\"2023-10-17T21:55:00.000+11:00\",\"end\":\"2023-10-17T21:55:30.000+11:00\"},\"potential_revenue\":69206557}', '{\"window\":{\"start\":\"2023-10-17T21:56:30.000+11:00\",\"end\":\"2023-10-17T21:57:00.000+11:00\"},\"potential_revenue\":48192856}', '{\"window\":{\"start\":\"2023-10-17T21:57:30.000+11:00\",\"end\":\"2023-10-17T21:58:00.000+11:00\"},\"potential_revenue\":50075819}', '{\"window\":{\"start\":\"2023-10-17T21:58:30.000+11:00\",\"end\":\"2023-10-17T21:59:00.000+11:00\"},\"potential_revenue\":74760138}', '{\"window\":{\"start\":\"2023-10-17T21:58:00.000+11:00\",\"end\":\"2023-10-17T21:58:30.000+11:00\"},\"potential_revenue\":42996136}', '{\"window\":{\"start\":\"2023-10-17T21:57:00.000+11:00\",\"end\":\"2023-10-17T21:57:30.000+11:00\"},\"potential_revenue\":36720386}']\n",
      "This is batch 2\n",
      "+------------------------------------------+-----------------+\n",
      "|window                                    |potential_revenue|\n",
      "+------------------------------------------+-----------------+\n",
      "|{2023-10-17 21:52:30, 2023-10-17 21:53:00}|39994582         |\n",
      "|{2023-10-17 21:52:00, 2023-10-17 21:52:30}|73680798         |\n",
      "|{2023-10-17 21:51:00, 2023-10-17 21:51:30}|6464304          |\n",
      "|{2023-10-17 21:51:30, 2023-10-17 21:52:00}|38581230         |\n",
      "|{2023-10-17 21:53:00, 2023-10-17 21:53:30}|48825848         |\n",
      "|{2023-10-17 21:54:30, 2023-10-17 21:55:00}|53680881         |\n",
      "|{2023-10-17 21:54:00, 2023-10-17 21:54:30}|45558668         |\n",
      "|{2023-10-17 21:56:00, 2023-10-17 21:56:30}|41002244         |\n",
      "|{2023-10-17 21:53:30, 2023-10-17 21:54:00}|65082912         |\n",
      "|{2023-10-17 21:55:30, 2023-10-17 21:56:00}|49933103         |\n",
      "|{2023-10-17 21:55:00, 2023-10-17 21:55:30}|69206557         |\n",
      "|{2023-10-17 21:56:30, 2023-10-17 21:57:00}|48192856         |\n",
      "|{2023-10-17 21:57:30, 2023-10-17 21:58:00}|50075819         |\n",
      "|{2023-10-17 21:58:30, 2023-10-17 21:59:00}|74760138         |\n",
      "|{2023-10-17 21:58:00, 2023-10-17 21:58:30}|42996136         |\n",
      "|{2023-10-17 21:57:00, 2023-10-17 21:57:30}|36720386         |\n",
      "|{2023-10-17 22:00:00, 2023-10-17 22:00:30}|55783112         |\n",
      "|{2023-10-17 22:01:30, 2023-10-17 22:02:00}|46454463         |\n",
      "|{2023-10-17 21:59:00, 2023-10-17 21:59:30}|59507263         |\n",
      "|{2023-10-17 22:00:30, 2023-10-17 22:01:00}|45108655         |\n",
      "+------------------------------------------+-----------------+\n",
      "only showing top 20 rows\n",
      "\n",
      "Message published successfully. Data: ['{\"window\":{\"start\":\"2023-10-17T21:52:30.000+11:00\",\"end\":\"2023-10-17T21:53:00.000+11:00\"},\"potential_revenue\":39994582}', '{\"window\":{\"start\":\"2023-10-17T21:52:00.000+11:00\",\"end\":\"2023-10-17T21:52:30.000+11:00\"},\"potential_revenue\":73680798}', '{\"window\":{\"start\":\"2023-10-17T21:51:00.000+11:00\",\"end\":\"2023-10-17T21:51:30.000+11:00\"},\"potential_revenue\":6464304}', '{\"window\":{\"start\":\"2023-10-17T21:51:30.000+11:00\",\"end\":\"2023-10-17T21:52:00.000+11:00\"},\"potential_revenue\":38581230}', '{\"window\":{\"start\":\"2023-10-17T21:53:00.000+11:00\",\"end\":\"2023-10-17T21:53:30.000+11:00\"},\"potential_revenue\":48825848}', '{\"window\":{\"start\":\"2023-10-17T21:54:30.000+11:00\",\"end\":\"2023-10-17T21:55:00.000+11:00\"},\"potential_revenue\":53680881}', '{\"window\":{\"start\":\"2023-10-17T21:54:00.000+11:00\",\"end\":\"2023-10-17T21:54:30.000+11:00\"},\"potential_revenue\":45558668}', '{\"window\":{\"start\":\"2023-10-17T21:56:00.000+11:00\",\"end\":\"2023-10-17T21:56:30.000+11:00\"},\"potential_revenue\":41002244}', '{\"window\":{\"start\":\"2023-10-17T21:53:30.000+11:00\",\"end\":\"2023-10-17T21:54:00.000+11:00\"},\"potential_revenue\":65082912}', '{\"window\":{\"start\":\"2023-10-17T21:55:30.000+11:00\",\"end\":\"2023-10-17T21:56:00.000+11:00\"},\"potential_revenue\":49933103}', '{\"window\":{\"start\":\"2023-10-17T21:55:00.000+11:00\",\"end\":\"2023-10-17T21:55:30.000+11:00\"},\"potential_revenue\":69206557}', '{\"window\":{\"start\":\"2023-10-17T21:56:30.000+11:00\",\"end\":\"2023-10-17T21:57:00.000+11:00\"},\"potential_revenue\":48192856}', '{\"window\":{\"start\":\"2023-10-17T21:57:30.000+11:00\",\"end\":\"2023-10-17T21:58:00.000+11:00\"},\"potential_revenue\":50075819}', '{\"window\":{\"start\":\"2023-10-17T21:58:30.000+11:00\",\"end\":\"2023-10-17T21:59:00.000+11:00\"},\"potential_revenue\":74760138}', '{\"window\":{\"start\":\"2023-10-17T21:58:00.000+11:00\",\"end\":\"2023-10-17T21:58:30.000+11:00\"},\"potential_revenue\":42996136}', '{\"window\":{\"start\":\"2023-10-17T21:57:00.000+11:00\",\"end\":\"2023-10-17T21:57:30.000+11:00\"},\"potential_revenue\":36720386}', '{\"window\":{\"start\":\"2023-10-17T22:00:00.000+11:00\",\"end\":\"2023-10-17T22:00:30.000+11:00\"},\"potential_revenue\":55783112}', '{\"window\":{\"start\":\"2023-10-17T22:01:30.000+11:00\",\"end\":\"2023-10-17T22:02:00.000+11:00\"},\"potential_revenue\":46454463}', '{\"window\":{\"start\":\"2023-10-17T21:59:00.000+11:00\",\"end\":\"2023-10-17T21:59:30.000+11:00\"},\"potential_revenue\":59507263}', '{\"window\":{\"start\":\"2023-10-17T22:00:30.000+11:00\",\"end\":\"2023-10-17T22:01:00.000+11:00\"},\"potential_revenue\":45108655}', '{\"window\":{\"start\":\"2023-10-17T22:01:00.000+11:00\",\"end\":\"2023-10-17T22:01:30.000+11:00\"},\"potential_revenue\":58225006}', '{\"window\":{\"start\":\"2023-10-17T21:59:30.000+11:00\",\"end\":\"2023-10-17T22:00:00.000+11:00\"},\"potential_revenue\":54665619}']\n",
      "This is batch 3\n",
      "+------------------------------------------+-----------------+\n",
      "|window                                    |potential_revenue|\n",
      "+------------------------------------------+-----------------+\n",
      "|{2023-10-17 21:52:30, 2023-10-17 21:53:00}|39994582         |\n",
      "|{2023-10-17 21:52:00, 2023-10-17 21:52:30}|73680798         |\n",
      "|{2023-10-17 21:51:00, 2023-10-17 21:51:30}|6464304          |\n",
      "|{2023-10-17 21:51:30, 2023-10-17 21:52:00}|38581230         |\n",
      "|{2023-10-17 21:53:00, 2023-10-17 21:53:30}|48825848         |\n",
      "|{2023-10-17 21:54:30, 2023-10-17 21:55:00}|53680881         |\n",
      "|{2023-10-17 21:54:00, 2023-10-17 21:54:30}|45558668         |\n",
      "|{2023-10-17 21:56:00, 2023-10-17 21:56:30}|41002244         |\n",
      "|{2023-10-17 21:53:30, 2023-10-17 21:54:00}|65082912         |\n",
      "|{2023-10-17 21:55:30, 2023-10-17 21:56:00}|49933103         |\n",
      "|{2023-10-17 21:55:00, 2023-10-17 21:55:30}|69206557         |\n",
      "|{2023-10-17 21:56:30, 2023-10-17 21:57:00}|48192856         |\n",
      "|{2023-10-17 21:57:30, 2023-10-17 21:58:00}|50075819         |\n",
      "|{2023-10-17 21:58:30, 2023-10-17 21:59:00}|74760138         |\n",
      "|{2023-10-17 21:58:00, 2023-10-17 21:58:30}|42996136         |\n",
      "|{2023-10-17 21:57:00, 2023-10-17 21:57:30}|36720386         |\n",
      "|{2023-10-17 22:00:00, 2023-10-17 22:00:30}|55783112         |\n",
      "|{2023-10-17 22:01:30, 2023-10-17 22:02:00}|46454463         |\n",
      "|{2023-10-17 21:59:00, 2023-10-17 21:59:30}|59507263         |\n",
      "|{2023-10-17 22:00:30, 2023-10-17 22:01:00}|45108655         |\n",
      "+------------------------------------------+-----------------+\n",
      "only showing top 20 rows\n",
      "\n",
      "Message published successfully. Data: ['{\"window\":{\"start\":\"2023-10-17T21:52:30.000+11:00\",\"end\":\"2023-10-17T21:53:00.000+11:00\"},\"potential_revenue\":39994582}', '{\"window\":{\"start\":\"2023-10-17T21:52:00.000+11:00\",\"end\":\"2023-10-17T21:52:30.000+11:00\"},\"potential_revenue\":73680798}', '{\"window\":{\"start\":\"2023-10-17T21:51:00.000+11:00\",\"end\":\"2023-10-17T21:51:30.000+11:00\"},\"potential_revenue\":6464304}', '{\"window\":{\"start\":\"2023-10-17T21:51:30.000+11:00\",\"end\":\"2023-10-17T21:52:00.000+11:00\"},\"potential_revenue\":38581230}', '{\"window\":{\"start\":\"2023-10-17T21:53:00.000+11:00\",\"end\":\"2023-10-17T21:53:30.000+11:00\"},\"potential_revenue\":48825848}', '{\"window\":{\"start\":\"2023-10-17T21:54:30.000+11:00\",\"end\":\"2023-10-17T21:55:00.000+11:00\"},\"potential_revenue\":53680881}', '{\"window\":{\"start\":\"2023-10-17T21:54:00.000+11:00\",\"end\":\"2023-10-17T21:54:30.000+11:00\"},\"potential_revenue\":45558668}', '{\"window\":{\"start\":\"2023-10-17T21:56:00.000+11:00\",\"end\":\"2023-10-17T21:56:30.000+11:00\"},\"potential_revenue\":41002244}', '{\"window\":{\"start\":\"2023-10-17T21:53:30.000+11:00\",\"end\":\"2023-10-17T21:54:00.000+11:00\"},\"potential_revenue\":65082912}', '{\"window\":{\"start\":\"2023-10-17T21:55:30.000+11:00\",\"end\":\"2023-10-17T21:56:00.000+11:00\"},\"potential_revenue\":49933103}', '{\"window\":{\"start\":\"2023-10-17T21:55:00.000+11:00\",\"end\":\"2023-10-17T21:55:30.000+11:00\"},\"potential_revenue\":69206557}', '{\"window\":{\"start\":\"2023-10-17T21:56:30.000+11:00\",\"end\":\"2023-10-17T21:57:00.000+11:00\"},\"potential_revenue\":48192856}', '{\"window\":{\"start\":\"2023-10-17T21:57:30.000+11:00\",\"end\":\"2023-10-17T21:58:00.000+11:00\"},\"potential_revenue\":50075819}', '{\"window\":{\"start\":\"2023-10-17T21:58:30.000+11:00\",\"end\":\"2023-10-17T21:59:00.000+11:00\"},\"potential_revenue\":74760138}', '{\"window\":{\"start\":\"2023-10-17T21:58:00.000+11:00\",\"end\":\"2023-10-17T21:58:30.000+11:00\"},\"potential_revenue\":42996136}', '{\"window\":{\"start\":\"2023-10-17T21:57:00.000+11:00\",\"end\":\"2023-10-17T21:57:30.000+11:00\"},\"potential_revenue\":36720386}', '{\"window\":{\"start\":\"2023-10-17T22:00:00.000+11:00\",\"end\":\"2023-10-17T22:00:30.000+11:00\"},\"potential_revenue\":55783112}', '{\"window\":{\"start\":\"2023-10-17T22:01:30.000+11:00\",\"end\":\"2023-10-17T22:02:00.000+11:00\"},\"potential_revenue\":46454463}', '{\"window\":{\"start\":\"2023-10-17T21:59:00.000+11:00\",\"end\":\"2023-10-17T21:59:30.000+11:00\"},\"potential_revenue\":59507263}', '{\"window\":{\"start\":\"2023-10-17T22:00:30.000+11:00\",\"end\":\"2023-10-17T22:01:00.000+11:00\"},\"potential_revenue\":45108655}', '{\"window\":{\"start\":\"2023-10-17T22:01:00.000+11:00\",\"end\":\"2023-10-17T22:01:30.000+11:00\"},\"potential_revenue\":58225006}', '{\"window\":{\"start\":\"2023-10-17T21:59:30.000+11:00\",\"end\":\"2023-10-17T22:00:00.000+11:00\"},\"potential_revenue\":54665619}']\n"
     ]
    },
    {
     "name": "stdout",
     "output_type": "stream",
     "text": [
      "This is batch 4\n",
      "+------------------------------------------+-----------------+\n",
      "|window                                    |potential_revenue|\n",
      "+------------------------------------------+-----------------+\n",
      "|{2023-10-17 21:52:30, 2023-10-17 21:53:00}|39994582         |\n",
      "|{2023-10-17 21:52:00, 2023-10-17 21:52:30}|73680798         |\n",
      "|{2023-10-17 21:51:00, 2023-10-17 21:51:30}|6464304          |\n",
      "|{2023-10-17 21:51:30, 2023-10-17 21:52:00}|38581230         |\n",
      "|{2023-10-17 21:53:00, 2023-10-17 21:53:30}|48825848         |\n",
      "|{2023-10-17 21:54:30, 2023-10-17 21:55:00}|53680881         |\n",
      "|{2023-10-17 21:54:00, 2023-10-17 21:54:30}|45558668         |\n",
      "|{2023-10-17 21:56:00, 2023-10-17 21:56:30}|41002244         |\n",
      "|{2023-10-17 21:53:30, 2023-10-17 21:54:00}|65082912         |\n",
      "|{2023-10-17 21:55:30, 2023-10-17 21:56:00}|49933103         |\n",
      "|{2023-10-17 21:55:00, 2023-10-17 21:55:30}|69206557         |\n",
      "|{2023-10-17 21:56:30, 2023-10-17 21:57:00}|48192856         |\n",
      "|{2023-10-17 21:57:30, 2023-10-17 21:58:00}|50075819         |\n",
      "|{2023-10-17 21:58:30, 2023-10-17 21:59:00}|74760138         |\n",
      "|{2023-10-17 21:58:00, 2023-10-17 21:58:30}|42996136         |\n",
      "|{2023-10-17 21:57:00, 2023-10-17 21:57:30}|36720386         |\n",
      "|{2023-10-17 22:00:00, 2023-10-17 22:00:30}|55783112         |\n",
      "|{2023-10-17 22:01:30, 2023-10-17 22:02:00}|46454463         |\n",
      "|{2023-10-17 21:59:00, 2023-10-17 21:59:30}|59507263         |\n",
      "|{2023-10-17 22:00:30, 2023-10-17 22:01:00}|45108655         |\n",
      "+------------------------------------------+-----------------+\n",
      "only showing top 20 rows\n",
      "\n",
      "Message published successfully. Data: ['{\"window\":{\"start\":\"2023-10-17T21:52:30.000+11:00\",\"end\":\"2023-10-17T21:53:00.000+11:00\"},\"potential_revenue\":39994582}', '{\"window\":{\"start\":\"2023-10-17T21:52:00.000+11:00\",\"end\":\"2023-10-17T21:52:30.000+11:00\"},\"potential_revenue\":73680798}', '{\"window\":{\"start\":\"2023-10-17T21:51:00.000+11:00\",\"end\":\"2023-10-17T21:51:30.000+11:00\"},\"potential_revenue\":6464304}', '{\"window\":{\"start\":\"2023-10-17T21:51:30.000+11:00\",\"end\":\"2023-10-17T21:52:00.000+11:00\"},\"potential_revenue\":38581230}', '{\"window\":{\"start\":\"2023-10-17T21:53:00.000+11:00\",\"end\":\"2023-10-17T21:53:30.000+11:00\"},\"potential_revenue\":48825848}', '{\"window\":{\"start\":\"2023-10-17T21:54:30.000+11:00\",\"end\":\"2023-10-17T21:55:00.000+11:00\"},\"potential_revenue\":53680881}', '{\"window\":{\"start\":\"2023-10-17T21:54:00.000+11:00\",\"end\":\"2023-10-17T21:54:30.000+11:00\"},\"potential_revenue\":45558668}', '{\"window\":{\"start\":\"2023-10-17T21:56:00.000+11:00\",\"end\":\"2023-10-17T21:56:30.000+11:00\"},\"potential_revenue\":41002244}', '{\"window\":{\"start\":\"2023-10-17T21:53:30.000+11:00\",\"end\":\"2023-10-17T21:54:00.000+11:00\"},\"potential_revenue\":65082912}', '{\"window\":{\"start\":\"2023-10-17T21:55:30.000+11:00\",\"end\":\"2023-10-17T21:56:00.000+11:00\"},\"potential_revenue\":49933103}', '{\"window\":{\"start\":\"2023-10-17T21:55:00.000+11:00\",\"end\":\"2023-10-17T21:55:30.000+11:00\"},\"potential_revenue\":69206557}', '{\"window\":{\"start\":\"2023-10-17T21:56:30.000+11:00\",\"end\":\"2023-10-17T21:57:00.000+11:00\"},\"potential_revenue\":48192856}', '{\"window\":{\"start\":\"2023-10-17T21:57:30.000+11:00\",\"end\":\"2023-10-17T21:58:00.000+11:00\"},\"potential_revenue\":50075819}', '{\"window\":{\"start\":\"2023-10-17T21:58:30.000+11:00\",\"end\":\"2023-10-17T21:59:00.000+11:00\"},\"potential_revenue\":74760138}', '{\"window\":{\"start\":\"2023-10-17T21:58:00.000+11:00\",\"end\":\"2023-10-17T21:58:30.000+11:00\"},\"potential_revenue\":42996136}', '{\"window\":{\"start\":\"2023-10-17T21:57:00.000+11:00\",\"end\":\"2023-10-17T21:57:30.000+11:00\"},\"potential_revenue\":36720386}', '{\"window\":{\"start\":\"2023-10-17T22:00:00.000+11:00\",\"end\":\"2023-10-17T22:00:30.000+11:00\"},\"potential_revenue\":55783112}', '{\"window\":{\"start\":\"2023-10-17T22:01:30.000+11:00\",\"end\":\"2023-10-17T22:02:00.000+11:00\"},\"potential_revenue\":46454463}', '{\"window\":{\"start\":\"2023-10-17T21:59:00.000+11:00\",\"end\":\"2023-10-17T21:59:30.000+11:00\"},\"potential_revenue\":59507263}', '{\"window\":{\"start\":\"2023-10-17T22:00:30.000+11:00\",\"end\":\"2023-10-17T22:01:00.000+11:00\"},\"potential_revenue\":45108655}', '{\"window\":{\"start\":\"2023-10-17T22:01:00.000+11:00\",\"end\":\"2023-10-17T22:01:30.000+11:00\"},\"potential_revenue\":58225006}', '{\"window\":{\"start\":\"2023-10-17T21:59:30.000+11:00\",\"end\":\"2023-10-17T22:00:00.000+11:00\"},\"potential_revenue\":54665619}', '{\"window\":{\"start\":\"2023-10-17T22:04:00.000+11:00\",\"end\":\"2023-10-17T22:04:30.000+11:00\"},\"potential_revenue\":48960778}', '{\"window\":{\"start\":\"2023-10-17T22:02:30.000+11:00\",\"end\":\"2023-10-17T22:03:00.000+11:00\"},\"potential_revenue\":34098121}', '{\"window\":{\"start\":\"2023-10-17T22:04:30.000+11:00\",\"end\":\"2023-10-17T22:05:00.000+11:00\"},\"potential_revenue\":32886008}', '{\"window\":{\"start\":\"2023-10-17T22:03:30.000+11:00\",\"end\":\"2023-10-17T22:04:00.000+11:00\"},\"potential_revenue\":55890467}', '{\"window\":{\"start\":\"2023-10-17T22:02:00.000+11:00\",\"end\":\"2023-10-17T22:02:30.000+11:00\"},\"potential_revenue\":55079642}', '{\"window\":{\"start\":\"2023-10-17T22:03:00.000+11:00\",\"end\":\"2023-10-17T22:03:30.000+11:00\"},\"potential_revenue\":38895072}']\n",
      "This is batch 5\n",
      "+------------------------------------------+-----------------+\n",
      "|window                                    |potential_revenue|\n",
      "+------------------------------------------+-----------------+\n",
      "|{2023-10-17 21:52:30, 2023-10-17 21:53:00}|39994582         |\n",
      "|{2023-10-17 21:52:00, 2023-10-17 21:52:30}|73680798         |\n",
      "|{2023-10-17 21:51:00, 2023-10-17 21:51:30}|6464304          |\n",
      "|{2023-10-17 21:51:30, 2023-10-17 21:52:00}|38581230         |\n",
      "|{2023-10-17 21:53:00, 2023-10-17 21:53:30}|48825848         |\n",
      "|{2023-10-17 21:54:30, 2023-10-17 21:55:00}|53680881         |\n",
      "|{2023-10-17 21:54:00, 2023-10-17 21:54:30}|45558668         |\n",
      "|{2023-10-17 21:56:00, 2023-10-17 21:56:30}|41002244         |\n",
      "|{2023-10-17 21:53:30, 2023-10-17 21:54:00}|65082912         |\n",
      "|{2023-10-17 21:55:30, 2023-10-17 21:56:00}|49933103         |\n",
      "|{2023-10-17 21:55:00, 2023-10-17 21:55:30}|69206557         |\n",
      "|{2023-10-17 21:56:30, 2023-10-17 21:57:00}|48192856         |\n",
      "|{2023-10-17 21:57:30, 2023-10-17 21:58:00}|50075819         |\n",
      "|{2023-10-17 21:58:30, 2023-10-17 21:59:00}|74760138         |\n",
      "|{2023-10-17 21:58:00, 2023-10-17 21:58:30}|42996136         |\n",
      "|{2023-10-17 21:57:00, 2023-10-17 21:57:30}|36720386         |\n",
      "|{2023-10-17 22:00:00, 2023-10-17 22:00:30}|55783112         |\n",
      "|{2023-10-17 22:01:30, 2023-10-17 22:02:00}|46454463         |\n",
      "|{2023-10-17 21:59:00, 2023-10-17 21:59:30}|59507263         |\n",
      "|{2023-10-17 22:00:30, 2023-10-17 22:01:00}|45108655         |\n",
      "+------------------------------------------+-----------------+\n",
      "only showing top 20 rows\n",
      "\n",
      "Message published successfully. Data: ['{\"window\":{\"start\":\"2023-10-17T21:52:30.000+11:00\",\"end\":\"2023-10-17T21:53:00.000+11:00\"},\"potential_revenue\":39994582}', '{\"window\":{\"start\":\"2023-10-17T21:52:00.000+11:00\",\"end\":\"2023-10-17T21:52:30.000+11:00\"},\"potential_revenue\":73680798}', '{\"window\":{\"start\":\"2023-10-17T21:51:00.000+11:00\",\"end\":\"2023-10-17T21:51:30.000+11:00\"},\"potential_revenue\":6464304}', '{\"window\":{\"start\":\"2023-10-17T21:51:30.000+11:00\",\"end\":\"2023-10-17T21:52:00.000+11:00\"},\"potential_revenue\":38581230}', '{\"window\":{\"start\":\"2023-10-17T21:53:00.000+11:00\",\"end\":\"2023-10-17T21:53:30.000+11:00\"},\"potential_revenue\":48825848}', '{\"window\":{\"start\":\"2023-10-17T21:54:30.000+11:00\",\"end\":\"2023-10-17T21:55:00.000+11:00\"},\"potential_revenue\":53680881}', '{\"window\":{\"start\":\"2023-10-17T21:54:00.000+11:00\",\"end\":\"2023-10-17T21:54:30.000+11:00\"},\"potential_revenue\":45558668}', '{\"window\":{\"start\":\"2023-10-17T21:56:00.000+11:00\",\"end\":\"2023-10-17T21:56:30.000+11:00\"},\"potential_revenue\":41002244}', '{\"window\":{\"start\":\"2023-10-17T21:53:30.000+11:00\",\"end\":\"2023-10-17T21:54:00.000+11:00\"},\"potential_revenue\":65082912}', '{\"window\":{\"start\":\"2023-10-17T21:55:30.000+11:00\",\"end\":\"2023-10-17T21:56:00.000+11:00\"},\"potential_revenue\":49933103}', '{\"window\":{\"start\":\"2023-10-17T21:55:00.000+11:00\",\"end\":\"2023-10-17T21:55:30.000+11:00\"},\"potential_revenue\":69206557}', '{\"window\":{\"start\":\"2023-10-17T21:56:30.000+11:00\",\"end\":\"2023-10-17T21:57:00.000+11:00\"},\"potential_revenue\":48192856}', '{\"window\":{\"start\":\"2023-10-17T21:57:30.000+11:00\",\"end\":\"2023-10-17T21:58:00.000+11:00\"},\"potential_revenue\":50075819}', '{\"window\":{\"start\":\"2023-10-17T21:58:30.000+11:00\",\"end\":\"2023-10-17T21:59:00.000+11:00\"},\"potential_revenue\":74760138}', '{\"window\":{\"start\":\"2023-10-17T21:58:00.000+11:00\",\"end\":\"2023-10-17T21:58:30.000+11:00\"},\"potential_revenue\":42996136}', '{\"window\":{\"start\":\"2023-10-17T21:57:00.000+11:00\",\"end\":\"2023-10-17T21:57:30.000+11:00\"},\"potential_revenue\":36720386}', '{\"window\":{\"start\":\"2023-10-17T22:00:00.000+11:00\",\"end\":\"2023-10-17T22:00:30.000+11:00\"},\"potential_revenue\":55783112}', '{\"window\":{\"start\":\"2023-10-17T22:01:30.000+11:00\",\"end\":\"2023-10-17T22:02:00.000+11:00\"},\"potential_revenue\":46454463}', '{\"window\":{\"start\":\"2023-10-17T21:59:00.000+11:00\",\"end\":\"2023-10-17T21:59:30.000+11:00\"},\"potential_revenue\":59507263}', '{\"window\":{\"start\":\"2023-10-17T22:00:30.000+11:00\",\"end\":\"2023-10-17T22:01:00.000+11:00\"},\"potential_revenue\":45108655}', '{\"window\":{\"start\":\"2023-10-17T22:01:00.000+11:00\",\"end\":\"2023-10-17T22:01:30.000+11:00\"},\"potential_revenue\":58225006}', '{\"window\":{\"start\":\"2023-10-17T21:59:30.000+11:00\",\"end\":\"2023-10-17T22:00:00.000+11:00\"},\"potential_revenue\":54665619}', '{\"window\":{\"start\":\"2023-10-17T22:04:00.000+11:00\",\"end\":\"2023-10-17T22:04:30.000+11:00\"},\"potential_revenue\":48960778}', '{\"window\":{\"start\":\"2023-10-17T22:02:30.000+11:00\",\"end\":\"2023-10-17T22:03:00.000+11:00\"},\"potential_revenue\":34098121}', '{\"window\":{\"start\":\"2023-10-17T22:04:30.000+11:00\",\"end\":\"2023-10-17T22:05:00.000+11:00\"},\"potential_revenue\":32886008}', '{\"window\":{\"start\":\"2023-10-17T22:03:30.000+11:00\",\"end\":\"2023-10-17T22:04:00.000+11:00\"},\"potential_revenue\":55890467}', '{\"window\":{\"start\":\"2023-10-17T22:02:00.000+11:00\",\"end\":\"2023-10-17T22:02:30.000+11:00\"},\"potential_revenue\":55079642}', '{\"window\":{\"start\":\"2023-10-17T22:03:00.000+11:00\",\"end\":\"2023-10-17T22:03:30.000+11:00\"},\"potential_revenue\":38895072}']\n"
     ]
    },
    {
     "name": "stdout",
     "output_type": "stream",
     "text": [
      "This is batch 6\n",
      "+------------------------------------------+-----------------+\n",
      "|window                                    |potential_revenue|\n",
      "+------------------------------------------+-----------------+\n",
      "|{2023-10-17 21:52:30, 2023-10-17 21:53:00}|39994582         |\n",
      "|{2023-10-17 21:52:00, 2023-10-17 21:52:30}|73680798         |\n",
      "|{2023-10-17 21:51:00, 2023-10-17 21:51:30}|6464304          |\n",
      "|{2023-10-17 21:51:30, 2023-10-17 21:52:00}|38581230         |\n",
      "|{2023-10-17 21:53:00, 2023-10-17 21:53:30}|48825848         |\n",
      "|{2023-10-17 21:54:30, 2023-10-17 21:55:00}|53680881         |\n",
      "|{2023-10-17 21:54:00, 2023-10-17 21:54:30}|45558668         |\n",
      "|{2023-10-17 21:56:00, 2023-10-17 21:56:30}|41002244         |\n",
      "|{2023-10-17 21:53:30, 2023-10-17 21:54:00}|65082912         |\n",
      "|{2023-10-17 21:55:30, 2023-10-17 21:56:00}|49933103         |\n",
      "|{2023-10-17 21:55:00, 2023-10-17 21:55:30}|69206557         |\n",
      "|{2023-10-17 21:56:30, 2023-10-17 21:57:00}|48192856         |\n",
      "|{2023-10-17 21:57:30, 2023-10-17 21:58:00}|50075819         |\n",
      "|{2023-10-17 21:58:30, 2023-10-17 21:59:00}|74760138         |\n",
      "|{2023-10-17 21:58:00, 2023-10-17 21:58:30}|42996136         |\n",
      "|{2023-10-17 21:57:00, 2023-10-17 21:57:30}|36720386         |\n",
      "|{2023-10-17 22:00:00, 2023-10-17 22:00:30}|55783112         |\n",
      "|{2023-10-17 22:01:30, 2023-10-17 22:02:00}|46454463         |\n",
      "|{2023-10-17 21:59:00, 2023-10-17 21:59:30}|59507263         |\n",
      "|{2023-10-17 22:00:30, 2023-10-17 22:01:00}|45108655         |\n",
      "+------------------------------------------+-----------------+\n",
      "only showing top 20 rows\n",
      "\n",
      "Message published successfully. Data: ['{\"window\":{\"start\":\"2023-10-17T21:52:30.000+11:00\",\"end\":\"2023-10-17T21:53:00.000+11:00\"},\"potential_revenue\":39994582}', '{\"window\":{\"start\":\"2023-10-17T21:52:00.000+11:00\",\"end\":\"2023-10-17T21:52:30.000+11:00\"},\"potential_revenue\":73680798}', '{\"window\":{\"start\":\"2023-10-17T21:51:00.000+11:00\",\"end\":\"2023-10-17T21:51:30.000+11:00\"},\"potential_revenue\":6464304}', '{\"window\":{\"start\":\"2023-10-17T21:51:30.000+11:00\",\"end\":\"2023-10-17T21:52:00.000+11:00\"},\"potential_revenue\":38581230}', '{\"window\":{\"start\":\"2023-10-17T21:53:00.000+11:00\",\"end\":\"2023-10-17T21:53:30.000+11:00\"},\"potential_revenue\":48825848}', '{\"window\":{\"start\":\"2023-10-17T21:54:30.000+11:00\",\"end\":\"2023-10-17T21:55:00.000+11:00\"},\"potential_revenue\":53680881}', '{\"window\":{\"start\":\"2023-10-17T21:54:00.000+11:00\",\"end\":\"2023-10-17T21:54:30.000+11:00\"},\"potential_revenue\":45558668}', '{\"window\":{\"start\":\"2023-10-17T21:56:00.000+11:00\",\"end\":\"2023-10-17T21:56:30.000+11:00\"},\"potential_revenue\":41002244}', '{\"window\":{\"start\":\"2023-10-17T21:53:30.000+11:00\",\"end\":\"2023-10-17T21:54:00.000+11:00\"},\"potential_revenue\":65082912}', '{\"window\":{\"start\":\"2023-10-17T21:55:30.000+11:00\",\"end\":\"2023-10-17T21:56:00.000+11:00\"},\"potential_revenue\":49933103}', '{\"window\":{\"start\":\"2023-10-17T21:55:00.000+11:00\",\"end\":\"2023-10-17T21:55:30.000+11:00\"},\"potential_revenue\":69206557}', '{\"window\":{\"start\":\"2023-10-17T21:56:30.000+11:00\",\"end\":\"2023-10-17T21:57:00.000+11:00\"},\"potential_revenue\":48192856}', '{\"window\":{\"start\":\"2023-10-17T21:57:30.000+11:00\",\"end\":\"2023-10-17T21:58:00.000+11:00\"},\"potential_revenue\":50075819}', '{\"window\":{\"start\":\"2023-10-17T21:58:30.000+11:00\",\"end\":\"2023-10-17T21:59:00.000+11:00\"},\"potential_revenue\":74760138}', '{\"window\":{\"start\":\"2023-10-17T21:58:00.000+11:00\",\"end\":\"2023-10-17T21:58:30.000+11:00\"},\"potential_revenue\":42996136}', '{\"window\":{\"start\":\"2023-10-17T21:57:00.000+11:00\",\"end\":\"2023-10-17T21:57:30.000+11:00\"},\"potential_revenue\":36720386}', '{\"window\":{\"start\":\"2023-10-17T22:00:00.000+11:00\",\"end\":\"2023-10-17T22:00:30.000+11:00\"},\"potential_revenue\":55783112}', '{\"window\":{\"start\":\"2023-10-17T22:01:30.000+11:00\",\"end\":\"2023-10-17T22:02:00.000+11:00\"},\"potential_revenue\":46454463}', '{\"window\":{\"start\":\"2023-10-17T21:59:00.000+11:00\",\"end\":\"2023-10-17T21:59:30.000+11:00\"},\"potential_revenue\":59507263}', '{\"window\":{\"start\":\"2023-10-17T22:00:30.000+11:00\",\"end\":\"2023-10-17T22:01:00.000+11:00\"},\"potential_revenue\":45108655}', '{\"window\":{\"start\":\"2023-10-17T22:01:00.000+11:00\",\"end\":\"2023-10-17T22:01:30.000+11:00\"},\"potential_revenue\":58225006}', '{\"window\":{\"start\":\"2023-10-17T21:59:30.000+11:00\",\"end\":\"2023-10-17T22:00:00.000+11:00\"},\"potential_revenue\":54665619}', '{\"window\":{\"start\":\"2023-10-17T22:04:00.000+11:00\",\"end\":\"2023-10-17T22:04:30.000+11:00\"},\"potential_revenue\":48960778}', '{\"window\":{\"start\":\"2023-10-17T22:02:30.000+11:00\",\"end\":\"2023-10-17T22:03:00.000+11:00\"},\"potential_revenue\":34098121}', '{\"window\":{\"start\":\"2023-10-17T22:04:30.000+11:00\",\"end\":\"2023-10-17T22:05:00.000+11:00\"},\"potential_revenue\":32886008}', '{\"window\":{\"start\":\"2023-10-17T22:03:30.000+11:00\",\"end\":\"2023-10-17T22:04:00.000+11:00\"},\"potential_revenue\":55890467}', '{\"window\":{\"start\":\"2023-10-17T22:02:00.000+11:00\",\"end\":\"2023-10-17T22:02:30.000+11:00\"},\"potential_revenue\":55079642}', '{\"window\":{\"start\":\"2023-10-17T22:03:00.000+11:00\",\"end\":\"2023-10-17T22:03:30.000+11:00\"},\"potential_revenue\":38895072}', '{\"window\":{\"start\":\"2023-10-17T22:05:30.000+11:00\",\"end\":\"2023-10-17T22:06:00.000+11:00\"},\"potential_revenue\":60292658}', '{\"window\":{\"start\":\"2023-10-17T22:06:30.000+11:00\",\"end\":\"2023-10-17T22:07:00.000+11:00\"},\"potential_revenue\":56086608}', '{\"window\":{\"start\":\"2023-10-17T22:05:00.000+11:00\",\"end\":\"2023-10-17T22:05:30.000+11:00\"},\"potential_revenue\":51843661}', '{\"window\":{\"start\":\"2023-10-17T22:06:00.000+11:00\",\"end\":\"2023-10-17T22:06:30.000+11:00\"},\"potential_revenue\":42543208}']\n",
      "This is batch 7\n",
      "+------------------------------------------+-----------------+\n",
      "|window                                    |potential_revenue|\n",
      "+------------------------------------------+-----------------+\n",
      "|{2023-10-17 21:52:30, 2023-10-17 21:53:00}|39994582         |\n",
      "|{2023-10-17 21:52:00, 2023-10-17 21:52:30}|73680798         |\n",
      "|{2023-10-17 21:51:00, 2023-10-17 21:51:30}|6464304          |\n",
      "|{2023-10-17 21:51:30, 2023-10-17 21:52:00}|38581230         |\n",
      "|{2023-10-17 21:53:00, 2023-10-17 21:53:30}|48825848         |\n",
      "|{2023-10-17 21:54:30, 2023-10-17 21:55:00}|53680881         |\n",
      "|{2023-10-17 21:54:00, 2023-10-17 21:54:30}|45558668         |\n",
      "|{2023-10-17 21:56:00, 2023-10-17 21:56:30}|41002244         |\n",
      "|{2023-10-17 21:53:30, 2023-10-17 21:54:00}|65082912         |\n",
      "|{2023-10-17 21:55:30, 2023-10-17 21:56:00}|49933103         |\n",
      "|{2023-10-17 21:55:00, 2023-10-17 21:55:30}|69206557         |\n",
      "|{2023-10-17 21:56:30, 2023-10-17 21:57:00}|48192856         |\n",
      "|{2023-10-17 21:57:30, 2023-10-17 21:58:00}|50075819         |\n",
      "|{2023-10-17 21:58:30, 2023-10-17 21:59:00}|74760138         |\n",
      "|{2023-10-17 21:58:00, 2023-10-17 21:58:30}|42996136         |\n",
      "|{2023-10-17 21:57:00, 2023-10-17 21:57:30}|36720386         |\n",
      "|{2023-10-17 22:00:00, 2023-10-17 22:00:30}|55783112         |\n",
      "|{2023-10-17 22:01:30, 2023-10-17 22:02:00}|46454463         |\n",
      "|{2023-10-17 21:59:00, 2023-10-17 21:59:30}|59507263         |\n",
      "|{2023-10-17 22:00:30, 2023-10-17 22:01:00}|45108655         |\n",
      "+------------------------------------------+-----------------+\n",
      "only showing top 20 rows\n",
      "\n",
      "Message published successfully. Data: ['{\"window\":{\"start\":\"2023-10-17T21:52:30.000+11:00\",\"end\":\"2023-10-17T21:53:00.000+11:00\"},\"potential_revenue\":39994582}', '{\"window\":{\"start\":\"2023-10-17T21:52:00.000+11:00\",\"end\":\"2023-10-17T21:52:30.000+11:00\"},\"potential_revenue\":73680798}', '{\"window\":{\"start\":\"2023-10-17T21:51:00.000+11:00\",\"end\":\"2023-10-17T21:51:30.000+11:00\"},\"potential_revenue\":6464304}', '{\"window\":{\"start\":\"2023-10-17T21:51:30.000+11:00\",\"end\":\"2023-10-17T21:52:00.000+11:00\"},\"potential_revenue\":38581230}', '{\"window\":{\"start\":\"2023-10-17T21:53:00.000+11:00\",\"end\":\"2023-10-17T21:53:30.000+11:00\"},\"potential_revenue\":48825848}', '{\"window\":{\"start\":\"2023-10-17T21:54:30.000+11:00\",\"end\":\"2023-10-17T21:55:00.000+11:00\"},\"potential_revenue\":53680881}', '{\"window\":{\"start\":\"2023-10-17T21:54:00.000+11:00\",\"end\":\"2023-10-17T21:54:30.000+11:00\"},\"potential_revenue\":45558668}', '{\"window\":{\"start\":\"2023-10-17T21:56:00.000+11:00\",\"end\":\"2023-10-17T21:56:30.000+11:00\"},\"potential_revenue\":41002244}', '{\"window\":{\"start\":\"2023-10-17T21:53:30.000+11:00\",\"end\":\"2023-10-17T21:54:00.000+11:00\"},\"potential_revenue\":65082912}', '{\"window\":{\"start\":\"2023-10-17T21:55:30.000+11:00\",\"end\":\"2023-10-17T21:56:00.000+11:00\"},\"potential_revenue\":49933103}', '{\"window\":{\"start\":\"2023-10-17T21:55:00.000+11:00\",\"end\":\"2023-10-17T21:55:30.000+11:00\"},\"potential_revenue\":69206557}', '{\"window\":{\"start\":\"2023-10-17T21:56:30.000+11:00\",\"end\":\"2023-10-17T21:57:00.000+11:00\"},\"potential_revenue\":48192856}', '{\"window\":{\"start\":\"2023-10-17T21:57:30.000+11:00\",\"end\":\"2023-10-17T21:58:00.000+11:00\"},\"potential_revenue\":50075819}', '{\"window\":{\"start\":\"2023-10-17T21:58:30.000+11:00\",\"end\":\"2023-10-17T21:59:00.000+11:00\"},\"potential_revenue\":74760138}', '{\"window\":{\"start\":\"2023-10-17T21:58:00.000+11:00\",\"end\":\"2023-10-17T21:58:30.000+11:00\"},\"potential_revenue\":42996136}', '{\"window\":{\"start\":\"2023-10-17T21:57:00.000+11:00\",\"end\":\"2023-10-17T21:57:30.000+11:00\"},\"potential_revenue\":36720386}', '{\"window\":{\"start\":\"2023-10-17T22:00:00.000+11:00\",\"end\":\"2023-10-17T22:00:30.000+11:00\"},\"potential_revenue\":55783112}', '{\"window\":{\"start\":\"2023-10-17T22:01:30.000+11:00\",\"end\":\"2023-10-17T22:02:00.000+11:00\"},\"potential_revenue\":46454463}', '{\"window\":{\"start\":\"2023-10-17T21:59:00.000+11:00\",\"end\":\"2023-10-17T21:59:30.000+11:00\"},\"potential_revenue\":59507263}', '{\"window\":{\"start\":\"2023-10-17T22:00:30.000+11:00\",\"end\":\"2023-10-17T22:01:00.000+11:00\"},\"potential_revenue\":45108655}', '{\"window\":{\"start\":\"2023-10-17T22:01:00.000+11:00\",\"end\":\"2023-10-17T22:01:30.000+11:00\"},\"potential_revenue\":58225006}', '{\"window\":{\"start\":\"2023-10-17T21:59:30.000+11:00\",\"end\":\"2023-10-17T22:00:00.000+11:00\"},\"potential_revenue\":54665619}', '{\"window\":{\"start\":\"2023-10-17T22:04:00.000+11:00\",\"end\":\"2023-10-17T22:04:30.000+11:00\"},\"potential_revenue\":48960778}', '{\"window\":{\"start\":\"2023-10-17T22:02:30.000+11:00\",\"end\":\"2023-10-17T22:03:00.000+11:00\"},\"potential_revenue\":34098121}', '{\"window\":{\"start\":\"2023-10-17T22:04:30.000+11:00\",\"end\":\"2023-10-17T22:05:00.000+11:00\"},\"potential_revenue\":32886008}', '{\"window\":{\"start\":\"2023-10-17T22:03:30.000+11:00\",\"end\":\"2023-10-17T22:04:00.000+11:00\"},\"potential_revenue\":55890467}', '{\"window\":{\"start\":\"2023-10-17T22:02:00.000+11:00\",\"end\":\"2023-10-17T22:02:30.000+11:00\"},\"potential_revenue\":55079642}', '{\"window\":{\"start\":\"2023-10-17T22:03:00.000+11:00\",\"end\":\"2023-10-17T22:03:30.000+11:00\"},\"potential_revenue\":38895072}', '{\"window\":{\"start\":\"2023-10-17T22:05:30.000+11:00\",\"end\":\"2023-10-17T22:06:00.000+11:00\"},\"potential_revenue\":60292658}', '{\"window\":{\"start\":\"2023-10-17T22:06:30.000+11:00\",\"end\":\"2023-10-17T22:07:00.000+11:00\"},\"potential_revenue\":56086608}', '{\"window\":{\"start\":\"2023-10-17T22:05:00.000+11:00\",\"end\":\"2023-10-17T22:05:30.000+11:00\"},\"potential_revenue\":51843661}', '{\"window\":{\"start\":\"2023-10-17T22:06:00.000+11:00\",\"end\":\"2023-10-17T22:06:30.000+11:00\"},\"potential_revenue\":42543208}']\n"
     ]
    },
    {
     "name": "stdout",
     "output_type": "stream",
     "text": [
      "This is batch 8\n"
     ]
    },
    {
     "name": "stderr",
     "output_type": "stream",
     "text": [
      "ERROR:root:KeyboardInterrupt while sending command.\n",
      "Traceback (most recent call last):\n",
      "  File \"/opt/conda/lib/python3.10/site-packages/py4j/java_gateway.py\", line 1038, in send_command\n",
      "    response = connection.send_command(command)\n",
      "  File \"/opt/conda/lib/python3.10/site-packages/py4j/clientserver.py\", line 511, in send_command\n",
      "    answer = smart_decode(self.stream.readline()[:-1])\n",
      "  File \"/opt/conda/lib/python3.10/socket.py\", line 705, in readinto\n",
      "    return self._sock.recv_into(b)\n",
      "KeyboardInterrupt\n"
     ]
    },
    {
     "ename": "KeyboardInterrupt",
     "evalue": "",
     "output_type": "error",
     "traceback": [
      "\u001b[0;31m---------------------------------------------------------------------------\u001b[0m",
      "\u001b[0;31mKeyboardInterrupt\u001b[0m                         Traceback (most recent call last)",
      "Cell \u001b[0;32mIn[53], line 8\u001b[0m\n\u001b[1;32m      6\u001b[0m count \u001b[38;5;241m+\u001b[39m\u001b[38;5;241m=\u001b[39m \u001b[38;5;241m1\u001b[39m\n\u001b[1;32m      7\u001b[0m \u001b[38;5;28mprint\u001b[39m(\u001b[38;5;124mf\u001b[39m\u001b[38;5;124m\"\u001b[39m\u001b[38;5;124mThis is batch \u001b[39m\u001b[38;5;132;01m{\u001b[39;00mcount\u001b[38;5;132;01m}\u001b[39;00m\u001b[38;5;124m\"\u001b[39m)\n\u001b[0;32m----> 8\u001b[0m \u001b[43mspark\u001b[49m\u001b[38;5;241;43m.\u001b[39;49m\u001b[43msql\u001b[49m\u001b[43m(\u001b[49m\u001b[38;5;124;43m\"\u001b[39;49m\u001b[38;5;124;43mselect * from potential_revenue\u001b[39;49m\u001b[38;5;124;43m\"\u001b[39;49m\u001b[43m)\u001b[49m\u001b[38;5;241;43m.\u001b[39;49m\u001b[43mshow\u001b[49m\u001b[43m(\u001b[49m\u001b[43mtruncate\u001b[49m\u001b[38;5;241;43m=\u001b[39;49m\u001b[38;5;28;43;01mFalse\u001b[39;49;00m\u001b[43m)\u001b[49m\n\u001b[1;32m      9\u001b[0m to_send \u001b[38;5;241m=\u001b[39m spark\u001b[38;5;241m.\u001b[39msql(\u001b[38;5;124m\"\u001b[39m\u001b[38;5;124mselect * from potential_revenue\u001b[39m\u001b[38;5;124m\"\u001b[39m)\u001b[38;5;241m.\u001b[39mtoJSON()\u001b[38;5;241m.\u001b[39mcollect()\n\u001b[1;32m     10\u001b[0m publish_message(producer, topic_rev, to_send)\n",
      "File \u001b[0;32m/opt/conda/lib/python3.10/site-packages/pyspark/sql/dataframe.py:912\u001b[0m, in \u001b[0;36mDataFrame.show\u001b[0;34m(self, n, truncate, vertical)\u001b[0m\n\u001b[1;32m    903\u001b[0m \u001b[38;5;28;01mexcept\u001b[39;00m \u001b[38;5;167;01mValueError\u001b[39;00m:\n\u001b[1;32m    904\u001b[0m     \u001b[38;5;28;01mraise\u001b[39;00m PySparkTypeError(\n\u001b[1;32m    905\u001b[0m         error_class\u001b[38;5;241m=\u001b[39m\u001b[38;5;124m\"\u001b[39m\u001b[38;5;124mNOT_BOOL\u001b[39m\u001b[38;5;124m\"\u001b[39m,\n\u001b[1;32m    906\u001b[0m         message_parameters\u001b[38;5;241m=\u001b[39m{\n\u001b[0;32m   (...)\u001b[0m\n\u001b[1;32m    909\u001b[0m         },\n\u001b[1;32m    910\u001b[0m     )\n\u001b[0;32m--> 912\u001b[0m \u001b[38;5;28mprint\u001b[39m(\u001b[38;5;28;43mself\u001b[39;49m\u001b[38;5;241;43m.\u001b[39;49m\u001b[43m_jdf\u001b[49m\u001b[38;5;241;43m.\u001b[39;49m\u001b[43mshowString\u001b[49m\u001b[43m(\u001b[49m\u001b[43mn\u001b[49m\u001b[43m,\u001b[49m\u001b[43m \u001b[49m\u001b[43mint_truncate\u001b[49m\u001b[43m,\u001b[49m\u001b[43m \u001b[49m\u001b[43mvertical\u001b[49m\u001b[43m)\u001b[49m)\n",
      "File \u001b[0;32m/opt/conda/lib/python3.10/site-packages/py4j/java_gateway.py:1321\u001b[0m, in \u001b[0;36mJavaMember.__call__\u001b[0;34m(self, *args)\u001b[0m\n\u001b[1;32m   1314\u001b[0m args_command, temp_args \u001b[38;5;241m=\u001b[39m \u001b[38;5;28mself\u001b[39m\u001b[38;5;241m.\u001b[39m_build_args(\u001b[38;5;241m*\u001b[39margs)\n\u001b[1;32m   1316\u001b[0m command \u001b[38;5;241m=\u001b[39m proto\u001b[38;5;241m.\u001b[39mCALL_COMMAND_NAME \u001b[38;5;241m+\u001b[39m\\\n\u001b[1;32m   1317\u001b[0m     \u001b[38;5;28mself\u001b[39m\u001b[38;5;241m.\u001b[39mcommand_header \u001b[38;5;241m+\u001b[39m\\\n\u001b[1;32m   1318\u001b[0m     args_command \u001b[38;5;241m+\u001b[39m\\\n\u001b[1;32m   1319\u001b[0m     proto\u001b[38;5;241m.\u001b[39mEND_COMMAND_PART\n\u001b[0;32m-> 1321\u001b[0m answer \u001b[38;5;241m=\u001b[39m \u001b[38;5;28;43mself\u001b[39;49m\u001b[38;5;241;43m.\u001b[39;49m\u001b[43mgateway_client\u001b[49m\u001b[38;5;241;43m.\u001b[39;49m\u001b[43msend_command\u001b[49m\u001b[43m(\u001b[49m\u001b[43mcommand\u001b[49m\u001b[43m)\u001b[49m\n\u001b[1;32m   1322\u001b[0m return_value \u001b[38;5;241m=\u001b[39m get_return_value(\n\u001b[1;32m   1323\u001b[0m     answer, \u001b[38;5;28mself\u001b[39m\u001b[38;5;241m.\u001b[39mgateway_client, \u001b[38;5;28mself\u001b[39m\u001b[38;5;241m.\u001b[39mtarget_id, \u001b[38;5;28mself\u001b[39m\u001b[38;5;241m.\u001b[39mname)\n\u001b[1;32m   1325\u001b[0m \u001b[38;5;28;01mfor\u001b[39;00m temp_arg \u001b[38;5;129;01min\u001b[39;00m temp_args:\n",
      "File \u001b[0;32m/opt/conda/lib/python3.10/site-packages/py4j/java_gateway.py:1038\u001b[0m, in \u001b[0;36mGatewayClient.send_command\u001b[0;34m(self, command, retry, binary)\u001b[0m\n\u001b[1;32m   1036\u001b[0m connection \u001b[38;5;241m=\u001b[39m \u001b[38;5;28mself\u001b[39m\u001b[38;5;241m.\u001b[39m_get_connection()\n\u001b[1;32m   1037\u001b[0m \u001b[38;5;28;01mtry\u001b[39;00m:\n\u001b[0;32m-> 1038\u001b[0m     response \u001b[38;5;241m=\u001b[39m \u001b[43mconnection\u001b[49m\u001b[38;5;241;43m.\u001b[39;49m\u001b[43msend_command\u001b[49m\u001b[43m(\u001b[49m\u001b[43mcommand\u001b[49m\u001b[43m)\u001b[49m\n\u001b[1;32m   1039\u001b[0m     \u001b[38;5;28;01mif\u001b[39;00m binary:\n\u001b[1;32m   1040\u001b[0m         \u001b[38;5;28;01mreturn\u001b[39;00m response, \u001b[38;5;28mself\u001b[39m\u001b[38;5;241m.\u001b[39m_create_connection_guard(connection)\n",
      "File \u001b[0;32m/opt/conda/lib/python3.10/site-packages/py4j/clientserver.py:511\u001b[0m, in \u001b[0;36mClientServerConnection.send_command\u001b[0;34m(self, command)\u001b[0m\n\u001b[1;32m    509\u001b[0m \u001b[38;5;28;01mtry\u001b[39;00m:\n\u001b[1;32m    510\u001b[0m     \u001b[38;5;28;01mwhile\u001b[39;00m \u001b[38;5;28;01mTrue\u001b[39;00m:\n\u001b[0;32m--> 511\u001b[0m         answer \u001b[38;5;241m=\u001b[39m smart_decode(\u001b[38;5;28;43mself\u001b[39;49m\u001b[38;5;241;43m.\u001b[39;49m\u001b[43mstream\u001b[49m\u001b[38;5;241;43m.\u001b[39;49m\u001b[43mreadline\u001b[49m\u001b[43m(\u001b[49m\u001b[43m)\u001b[49m[:\u001b[38;5;241m-\u001b[39m\u001b[38;5;241m1\u001b[39m])\n\u001b[1;32m    512\u001b[0m         logger\u001b[38;5;241m.\u001b[39mdebug(\u001b[38;5;124m\"\u001b[39m\u001b[38;5;124mAnswer received: \u001b[39m\u001b[38;5;132;01m{0}\u001b[39;00m\u001b[38;5;124m\"\u001b[39m\u001b[38;5;241m.\u001b[39mformat(answer))\n\u001b[1;32m    513\u001b[0m         \u001b[38;5;66;03m# Happens when a the other end is dead. There might be an empty\u001b[39;00m\n\u001b[1;32m    514\u001b[0m         \u001b[38;5;66;03m# answer before the socket raises an error.\u001b[39;00m\n",
      "File \u001b[0;32m/opt/conda/lib/python3.10/socket.py:705\u001b[0m, in \u001b[0;36mSocketIO.readinto\u001b[0;34m(self, b)\u001b[0m\n\u001b[1;32m    703\u001b[0m \u001b[38;5;28;01mwhile\u001b[39;00m \u001b[38;5;28;01mTrue\u001b[39;00m:\n\u001b[1;32m    704\u001b[0m     \u001b[38;5;28;01mtry\u001b[39;00m:\n\u001b[0;32m--> 705\u001b[0m         \u001b[38;5;28;01mreturn\u001b[39;00m \u001b[38;5;28;43mself\u001b[39;49m\u001b[38;5;241;43m.\u001b[39;49m\u001b[43m_sock\u001b[49m\u001b[38;5;241;43m.\u001b[39;49m\u001b[43mrecv_into\u001b[49m\u001b[43m(\u001b[49m\u001b[43mb\u001b[49m\u001b[43m)\u001b[49m\n\u001b[1;32m    706\u001b[0m     \u001b[38;5;28;01mexcept\u001b[39;00m timeout:\n\u001b[1;32m    707\u001b[0m         \u001b[38;5;28mself\u001b[39m\u001b[38;5;241m.\u001b[39m_timeout_occurred \u001b[38;5;241m=\u001b[39m \u001b[38;5;28;01mTrue\u001b[39;00m\n",
      "\u001b[0;31mKeyboardInterrupt\u001b[0m: "
     ]
    }
   ],
   "source": [
    "producer = connect_kafka_producer()\n",
    "topic_rev= \"potential_revenue\"\n",
    "count = 0\n",
    "\n",
    "while True:\n",
    "    count += 1\n",
    "    print(f\"This is batch {count}\")\n",
    "    spark.sql(\"select * from potential_revenue\").show(truncate=False)\n",
    "    to_send = spark.sql(\"select * from potential_revenue\").toJSON().collect()\n",
    "    publish_message(producer, topic_rev, to_send)\n",
    "    sleep(30)"
   ]
  }
 ],
 "metadata": {
  "kernelspec": {
   "display_name": "Python 3 (ipykernel)",
   "language": "python",
   "name": "python3"
  },
  "language_info": {
   "codemirror_mode": {
    "name": "ipython",
    "version": 3
   },
   "file_extension": ".py",
   "mimetype": "text/x-python",
   "name": "python",
   "nbconvert_exporter": "python",
   "pygments_lexer": "ipython3",
   "version": "3.10.11"
  },
  "vscode": {
   "interpreter": {
    "hash": "5c7b89af1651d0b8571dde13640ecdccf7d5a6204171d6ab33e7c296e100e08a"
   }
  }
 },
 "nbformat": 4,
 "nbformat_minor": 4
}
